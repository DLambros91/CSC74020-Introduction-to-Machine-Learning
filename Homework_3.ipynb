{
  "nbformat": 4,
  "nbformat_minor": 0,
  "metadata": {
    "colab": {
      "name": "Homework3.ipynb",
      "provenance": [],
      "collapsed_sections": [],
      "toc_visible": true
    },
    "kernelspec": {
      "name": "python3",
      "display_name": "Python 3"
    }
  },
  "cells": [
    {
      "cell_type": "markdown",
      "metadata": {
        "id": "tnBq4CnEWP6N",
        "colab_type": "text"
      },
      "source": [
        "# Homework 3 - Default Prediction\n",
        "## Demetrios Lambropoulos\n",
        "## Machine Learning"
      ]
    },
    {
      "cell_type": "markdown",
      "metadata": {
        "id": "LMvPU3m_Wcfh",
        "colab_type": "text"
      },
      "source": [
        "## Initialization"
      ]
    },
    {
      "cell_type": "code",
      "metadata": {
        "id": "aABWt61RWMmf",
        "colab_type": "code",
        "colab": {}
      },
      "source": [
        "import numpy as np\n",
        "import pandas as pd\n",
        "import matplotlib.pyplot as plt\n",
        "from sklearn.model_selection import train_test_split\n",
        "%matplotlib inline"
      ],
      "execution_count": 0,
      "outputs": []
    },
    {
      "cell_type": "code",
      "metadata": {
        "id": "mhi4kAAfXpdm",
        "colab_type": "code",
        "outputId": "ed8f02ca-45ce-46d1-ae8f-2d81a3d7833b",
        "colab": {
          "base_uri": "https://localhost:8080/",
          "height": 204
        }
      },
      "source": [
        "# URL Path containing data source\n",
        "url = \"https://github.com/JWarmenhoven/ISLR-python/blob/master/Notebooks/Data/Default.xlsx?raw=true\"\n",
        "\n",
        "# Read Excel file at URL Path and store in data frame\n",
        "df = pd.read_excel(url, index_col=0)\n",
        "\n",
        "# Display the first 5 lines of data fram\n",
        "df.head()"
      ],
      "execution_count": 0,
      "outputs": [
        {
          "output_type": "execute_result",
          "data": {
            "text/html": [
              "<div>\n",
              "<style scoped>\n",
              "    .dataframe tbody tr th:only-of-type {\n",
              "        vertical-align: middle;\n",
              "    }\n",
              "\n",
              "    .dataframe tbody tr th {\n",
              "        vertical-align: top;\n",
              "    }\n",
              "\n",
              "    .dataframe thead th {\n",
              "        text-align: right;\n",
              "    }\n",
              "</style>\n",
              "<table border=\"1\" class=\"dataframe\">\n",
              "  <thead>\n",
              "    <tr style=\"text-align: right;\">\n",
              "      <th></th>\n",
              "      <th>default</th>\n",
              "      <th>student</th>\n",
              "      <th>balance</th>\n",
              "      <th>income</th>\n",
              "    </tr>\n",
              "  </thead>\n",
              "  <tbody>\n",
              "    <tr>\n",
              "      <th>1</th>\n",
              "      <td>No</td>\n",
              "      <td>No</td>\n",
              "      <td>729.526495</td>\n",
              "      <td>44361.625074</td>\n",
              "    </tr>\n",
              "    <tr>\n",
              "      <th>2</th>\n",
              "      <td>No</td>\n",
              "      <td>Yes</td>\n",
              "      <td>817.180407</td>\n",
              "      <td>12106.134700</td>\n",
              "    </tr>\n",
              "    <tr>\n",
              "      <th>3</th>\n",
              "      <td>No</td>\n",
              "      <td>No</td>\n",
              "      <td>1073.549164</td>\n",
              "      <td>31767.138947</td>\n",
              "    </tr>\n",
              "    <tr>\n",
              "      <th>4</th>\n",
              "      <td>No</td>\n",
              "      <td>No</td>\n",
              "      <td>529.250605</td>\n",
              "      <td>35704.493935</td>\n",
              "    </tr>\n",
              "    <tr>\n",
              "      <th>5</th>\n",
              "      <td>No</td>\n",
              "      <td>No</td>\n",
              "      <td>785.655883</td>\n",
              "      <td>38463.495879</td>\n",
              "    </tr>\n",
              "  </tbody>\n",
              "</table>\n",
              "</div>"
            ],
            "text/plain": [
              "  default student      balance        income\n",
              "1      No      No   729.526495  44361.625074\n",
              "2      No     Yes   817.180407  12106.134700\n",
              "3      No      No  1073.549164  31767.138947\n",
              "4      No      No   529.250605  35704.493935\n",
              "5      No      No   785.655883  38463.495879"
            ]
          },
          "metadata": {
            "tags": []
          },
          "execution_count": 350
        }
      ]
    },
    {
      "cell_type": "markdown",
      "metadata": {
        "id": "ZGS2HqwPmMGc",
        "colab_type": "text"
      },
      "source": [
        "## Split the dataset"
      ]
    },
    {
      "cell_type": "markdown",
      "metadata": {
        "id": "pWgaoXTbmSc8",
        "colab_type": "text"
      },
      "source": [
        "### Split into df_train, df_test, df_validation"
      ]
    },
    {
      "cell_type": "code",
      "metadata": {
        "id": "R7HbPgX0Xv6e",
        "colab_type": "code",
        "outputId": "dd8d5a89-8f16-4c17-ef35-2e9413820125",
        "colab": {
          "base_uri": "https://localhost:8080/",
          "height": 85
        }
      },
      "source": [
        "# Stratified sampling of the data into a 60% train and 40% test set\n",
        "df_train, df_test = train_test_split(df, test_size=0.4)\n",
        "\n",
        "# Stratified sampling of the test dataset into 20% test and 20% validation sets\n",
        "df_test, df_validation = train_test_split(df_test, test_size=0.5)\n",
        "\n",
        "# Display the percentage split of the data in the original dataset\n",
        "x = df['default'].describe()['freq']\n",
        "print (\"Percentage in original dataframe: Yes\", \n",
        "       (len(df)-x)/len(df), \"No\", x/len(df))\n",
        "\n",
        "# Display the percentage split of the data in the training dataset\n",
        "x = df_train['default'].describe()['freq']\n",
        "print (\"Percentage split in the train set: Yes\", \n",
        "       (len(df_train)-x)/len(df_train), \"No\", x/len(df_train))\n",
        "\n",
        "# Display the percentage split of the data in the test dataset\n",
        "x = df_test['default'].describe()['freq']\n",
        "print (\"Percentage split in test set: Yes\", \n",
        "       (len(df_test)-x)/len(df_test), \"No\", x/len(df_test))\n",
        "\n",
        "# Display the percentage split of the data in the validation dataset\n",
        "x = df_validation['default'].describe()['freq']\n",
        "print (\"Percentage split in validation set: Yes\", \n",
        "       (len(df_validation)-x)/len(df_validation), \"No\", x/len(df_validation))"
      ],
      "execution_count": 0,
      "outputs": [
        {
          "output_type": "stream",
          "text": [
            "Percentage in original dataframe: Yes 0.0333 No 0.9667\n",
            "Percentage split in the train set: Yes 0.03166666666666667 No 0.9683333333333334\n",
            "Percentage split in test set: Yes 0.0325 No 0.9675\n",
            "Percentage split in validation set: Yes 0.039 No 0.961\n"
          ],
          "name": "stdout"
        }
      ]
    },
    {
      "cell_type": "code",
      "metadata": {
        "id": "BCItWQxllMjF",
        "colab_type": "code",
        "colab": {}
      },
      "source": [
        "# Function to convert to numerical values\n",
        "def convert_yes_no(x):\n",
        "    if x == \"Yes\":\n",
        "        return 1\n",
        "    elif x == \"No\":\n",
        "        return 0\n",
        "    else:\n",
        "        return x"
      ],
      "execution_count": 0,
      "outputs": []
    },
    {
      "cell_type": "code",
      "metadata": {
        "id": "MweI1XWMr55_",
        "colab_type": "code",
        "outputId": "38776e24-1ea9-4c93-95fc-8534a7791f6c",
        "colab": {
          "base_uri": "https://localhost:8080/",
          "height": 281
        }
      },
      "source": [
        "# Create histogram of 'default' values in the dataframe\n",
        "plt.hist(df.default)\n",
        "\n",
        "# Set title of histogram \n",
        "plt.title('default values in original Dataframe')\n",
        "\n",
        "# Display the histogram\n",
        "plt.show()\n",
        "\n",
        "# Convert String values to numeric for 'default'\n",
        "df['default'] = df['default'].apply(convert_yes_no)\n",
        "\n",
        "# Convert String values to numeric for 'student'\n",
        "df['student'] = df['student'].apply(convert_yes_no)"
      ],
      "execution_count": 0,
      "outputs": [
        {
          "output_type": "display_data",
          "data": {
            "image/png": "[encoded data removed]",
            "text/plain": [
              "<Figure size 432x288 with 1 Axes>"
            ]
          },
          "metadata": {
            "tags": []
          }
        }
      ]
    },
    {
      "cell_type": "code",
      "metadata": {
        "id": "2TvIul0r_yMH",
        "colab_type": "code",
        "outputId": "e8de4fee-e797-4fe5-cd6b-8d1dbffa0d03",
        "colab": {
          "base_uri": "https://localhost:8080/",
          "height": 505
        }
      },
      "source": [
        "# Create histogram of 'default' values in the dataframe\n",
        "plt.hist(df_train.default)\n",
        "\n",
        "# Set title of histogram \n",
        "plt.title('default values in training Dataframe')\n",
        "\n",
        "# Display the histogram\n",
        "plt.show()\n",
        "\n",
        "# Convert String values to numeric for 'default'\n",
        "df_train['default'] = df_train['default'].apply(convert_yes_no)\n",
        "\n",
        "# Convert String values to numeric for 'student'\n",
        "df_train['student'] = df_train['student'].apply(convert_yes_no)"
      ],
      "execution_count": 0,
      "outputs": [
        {
          "output_type": "display_data",
          "data": {
            "image/png": "[encoded data removed]",
            "text/plain": [
              "<Figure size 432x288 with 1 Axes>"
            ]
          },
          "metadata": {
            "tags": []
          }
        },
        {
          "output_type": "stream",
          "text": [
            "/usr/local/lib/python3.6/dist-packages/ipykernel_launcher.py:10: SettingWithCopyWarning: \n",
            "A value is trying to be set on a copy of a slice from a DataFrame.\n",
            "Try using .loc[row_indexer,col_indexer] = value instead\n",
            "\n",
            "See the caveats in the documentation: http://pandas.pydata.org/pandas-docs/stable/user_guide/indexing.html#returning-a-view-versus-a-copy\n",
            "  # Remove the CWD from sys.path while we load stuff.\n",
            "/usr/local/lib/python3.6/dist-packages/ipykernel_launcher.py:13: SettingWithCopyWarning: \n",
            "A value is trying to be set on a copy of a slice from a DataFrame.\n",
            "Try using .loc[row_indexer,col_indexer] = value instead\n",
            "\n",
            "See the caveats in the documentation: http://pandas.pydata.org/pandas-docs/stable/user_guide/indexing.html#returning-a-view-versus-a-copy\n",
            "  del sys.path[0]\n"
          ],
          "name": "stderr"
        }
      ]
    },
    {
      "cell_type": "code",
      "metadata": {
        "id": "7E3i-Z44Ap7v",
        "colab_type": "code",
        "outputId": "d3b2e419-eb6c-4f7d-f5ab-eaa83356ac3f",
        "colab": {
          "base_uri": "https://localhost:8080/",
          "height": 281
        }
      },
      "source": [
        "# Create histogram of 'default' values in the dataframe\n",
        "plt.hist(df_test.default)\n",
        "\n",
        "# Set title of histogram \n",
        "plt.title('default values in testing Dataframe')\n",
        "\n",
        "# Display the histogram\n",
        "plt.show()\n",
        "\n",
        "# Convert String values to numeric for 'default'\n",
        "df_test['default'] = df_test['default'].apply(convert_yes_no)\n",
        "\n",
        "# Convert String values to numeric for 'student'\n",
        "df_test['student'] = df_test['student'].apply(convert_yes_no)"
      ],
      "execution_count": 0,
      "outputs": [
        {
          "output_type": "display_data",
          "data": {
            "image/png": "[encoded data removed]",
            "text/plain": [
              "<Figure size 432x288 with 1 Axes>"
            ]
          },
          "metadata": {
            "tags": []
          }
        }
      ]
    },
    {
      "cell_type": "code",
      "metadata": {
        "id": "QIx8q-uYUX7T",
        "colab_type": "code",
        "outputId": "5d49a444-8090-476a-ad3e-1eca95c9bbf0",
        "colab": {
          "base_uri": "https://localhost:8080/",
          "height": 281
        }
      },
      "source": [
        "# Create histogram of 'default' values in the dataframe\n",
        "plt.hist(df_validation.default)\n",
        "\n",
        "# Set title of histogram \n",
        "plt.title('default values in validating Dataframe')\n",
        "\n",
        "# Display the histogram\n",
        "plt.show()\n",
        "\n",
        "# Convert String values to numeric for 'default'\n",
        "df_validation['default'] = df_validation['default'].apply(convert_yes_no)\n",
        "\n",
        "# Convert String values to numeric for 'student'\n",
        "df_validation['student'] = df_validation['student'].apply(convert_yes_no)"
      ],
      "execution_count": 0,
      "outputs": [
        {
          "output_type": "display_data",
          "data": {
            "image/png": "[encoded data removed]",
            "text/plain": [
              "<Figure size 432x288 with 1 Axes>"
            ]
          },
          "metadata": {
            "tags": []
          }
        }
      ]
    },
    {
      "cell_type": "markdown",
      "metadata": {
        "id": "6sXajTEeiQmA",
        "colab_type": "text"
      },
      "source": [
        "## Augment the Data"
      ]
    },
    {
      "cell_type": "markdown",
      "metadata": {
        "id": "mPDSLXFRmZ3v",
        "colab_type": "text"
      },
      "source": [
        "#### Augment data with oversampling"
      ]
    },
    {
      "cell_type": "code",
      "metadata": {
        "id": "65Q1MHOJmLB_",
        "colab_type": "code",
        "outputId": "b50c1784-554d-4976-f11f-76d1d322da11",
        "colab": {
          "base_uri": "https://localhost:8080/",
          "height": 298
        }
      },
      "source": [
        "# Import the resample library from sklearn.utils for oversampling\n",
        "from sklearn.utils import resample\n",
        "\n",
        "# Split the training datasets to yes and no blocks\n",
        "no = df_train[df_train.default==0]\n",
        "yes = df_train[df_train.default==1]\n",
        "\n",
        "# Over sample the yes block to match the length of the no block\n",
        "yes_over = resample(yes, replace=True, n_samples = len(no), random_state=10)\n",
        "\n",
        "# Concatenate the two blocks\n",
        "df_train_over = pd.concat([no, yes_over])\n",
        "\n",
        "# Plot Histogram\n",
        "plt.hist(df_train_over.default)\n",
        "\n",
        "# Set title of histogram \n",
        "plt.title('default values in oversampling Dataframe')"
      ],
      "execution_count": 0,
      "outputs": [
        {
          "output_type": "execute_result",
          "data": {
            "text/plain": [
              "Text(0.5, 1.0, 'default values in oversampling Dataframe')"
            ]
          },
          "metadata": {
            "tags": []
          },
          "execution_count": 357
        },
        {
          "output_type": "display_data",
          "data": {
            "image/png": "[encoded data removed]",
            "text/plain": [
              "<Figure size 432x288 with 1 Axes>"
            ]
          },
          "metadata": {
            "tags": []
          }
        }
      ]
    },
    {
      "cell_type": "code",
      "metadata": {
        "id": "X2dIUX4IQIxr",
        "colab_type": "code",
        "outputId": "6113be35-ac86-4a02-d8d9-5247b19e82b5",
        "colab": {
          "base_uri": "https://localhost:8080/",
          "height": 34
        }
      },
      "source": [
        "# Display the percentage split\n",
        "yes_count = df_train_over.default.value_counts()[0]\n",
        "no_count = df_train_over.default.value_counts()[1]\n",
        "\n",
        "print(\"Percentage yes:\", (yes_count/len(df_train_over))*100,\n",
        "      \"% Percentage No:\", (no_count/len(df_train_over))*100,\"%\")"
      ],
      "execution_count": 0,
      "outputs": [
        {
          "output_type": "stream",
          "text": [
            "Percentage yes: 50.0 % Percentage No: 50.0 %\n"
          ],
          "name": "stdout"
        }
      ]
    },
    {
      "cell_type": "markdown",
      "metadata": {
        "id": "UCtvUhIEUBja",
        "colab_type": "text"
      },
      "source": [
        "### Augment data with undersampling"
      ]
    },
    {
      "cell_type": "code",
      "metadata": {
        "id": "_hTp1VXyUay3",
        "colab_type": "code",
        "colab": {}
      },
      "source": [
        "# Under sample the no block to match the length of the yes block\n",
        "no_under = resample ( no, \n",
        "                     replace = False, \n",
        "                     n_samples = len(yes), \n",
        "                     random_state = 10 )\n",
        "\n",
        "# Concatenate the two blocks\n",
        "df_train_under = pd.concat([no_under, yes])"
      ],
      "execution_count": 0,
      "outputs": []
    },
    {
      "cell_type": "code",
      "metadata": {
        "id": "AUpca3SrVStk",
        "colab_type": "code",
        "outputId": "688bb783-df6b-4364-a641-cebcc1612260",
        "colab": {
          "base_uri": "https://localhost:8080/",
          "height": 298
        }
      },
      "source": [
        "# Plot Histogram\n",
        "plt.hist(df_train_under.default)\n",
        "\n",
        "# Set title of histogram \n",
        "plt.title('default values in undersampling Dataframe')"
      ],
      "execution_count": 0,
      "outputs": [
        {
          "output_type": "execute_result",
          "data": {
            "text/plain": [
              "Text(0.5, 1.0, 'default values in undersampling Dataframe')"
            ]
          },
          "metadata": {
            "tags": []
          },
          "execution_count": 360
        },
        {
          "output_type": "display_data",
          "data": {
            "image/png": "[encoded data removed]",
            "text/plain": [
              "<Figure size 432x288 with 1 Axes>"
            ]
          },
          "metadata": {
            "tags": []
          }
        }
      ]
    },
    {
      "cell_type": "code",
      "metadata": {
        "id": "xUcBvSIeVwD1",
        "colab_type": "code",
        "outputId": "5370e2cf-4710-489d-d060-d7a152ebe5a2",
        "colab": {
          "base_uri": "https://localhost:8080/",
          "height": 34
        }
      },
      "source": [
        "# Display the percentage split\n",
        "yes_count = df_train_under.default.value_counts()[0]\n",
        "no_count = df_train_under.default.value_counts()[1]\n",
        "\n",
        "print(\"Percentage yes:\", (yes_count/len(df_train_under))*100, \n",
        "      \"% Percentage No:\", (no_count/len(df_train_under))*100,\"%\")"
      ],
      "execution_count": 0,
      "outputs": [
        {
          "output_type": "stream",
          "text": [
            "Percentage yes: 50.0 % Percentage No: 50.0 %\n"
          ],
          "name": "stdout"
        }
      ]
    },
    {
      "cell_type": "markdown",
      "metadata": {
        "id": "42-Lvi9YVfhC",
        "colab_type": "text"
      },
      "source": [
        "## Train a logistic regression model"
      ]
    },
    {
      "cell_type": "code",
      "metadata": {
        "id": "zsgdV_GQXvxe",
        "colab_type": "code",
        "colab": {}
      },
      "source": [
        "# Import the Logistic Regression model\n",
        "from sklearn.linear_model import LogisticRegression"
      ],
      "execution_count": 0,
      "outputs": []
    },
    {
      "cell_type": "markdown",
      "metadata": {
        "id": "0rgWI_Oziap2",
        "colab_type": "text"
      },
      "source": [
        "### Train set"
      ]
    },
    {
      "cell_type": "code",
      "metadata": {
        "id": "xcUlw8oymcFU",
        "colab_type": "code",
        "outputId": "62cb1b11-6b72-431e-f2ea-f97a6aaffd0e",
        "colab": {
          "base_uri": "https://localhost:8080/",
          "height": 204
        }
      },
      "source": [
        "# Display the head of the training dataframe\n",
        "df_train.head()"
      ],
      "execution_count": 0,
      "outputs": [
        {
          "output_type": "execute_result",
          "data": {
            "text/html": [
              "<div>\n",
              "<style scoped>\n",
              "    .dataframe tbody tr th:only-of-type {\n",
              "        vertical-align: middle;\n",
              "    }\n",
              "\n",
              "    .dataframe tbody tr th {\n",
              "        vertical-align: top;\n",
              "    }\n",
              "\n",
              "    .dataframe thead th {\n",
              "        text-align: right;\n",
              "    }\n",
              "</style>\n",
              "<table border=\"1\" class=\"dataframe\">\n",
              "  <thead>\n",
              "    <tr style=\"text-align: right;\">\n",
              "      <th></th>\n",
              "      <th>default</th>\n",
              "      <th>student</th>\n",
              "      <th>balance</th>\n",
              "      <th>income</th>\n",
              "    </tr>\n",
              "  </thead>\n",
              "  <tbody>\n",
              "    <tr>\n",
              "      <th>6524</th>\n",
              "      <td>0</td>\n",
              "      <td>0</td>\n",
              "      <td>989.636310</td>\n",
              "      <td>27318.943706</td>\n",
              "    </tr>\n",
              "    <tr>\n",
              "      <th>4626</th>\n",
              "      <td>0</td>\n",
              "      <td>0</td>\n",
              "      <td>603.661670</td>\n",
              "      <td>44663.736117</td>\n",
              "    </tr>\n",
              "    <tr>\n",
              "      <th>8370</th>\n",
              "      <td>0</td>\n",
              "      <td>0</td>\n",
              "      <td>1491.707545</td>\n",
              "      <td>40637.447983</td>\n",
              "    </tr>\n",
              "    <tr>\n",
              "      <th>5786</th>\n",
              "      <td>0</td>\n",
              "      <td>0</td>\n",
              "      <td>818.334937</td>\n",
              "      <td>27390.836912</td>\n",
              "    </tr>\n",
              "    <tr>\n",
              "      <th>2550</th>\n",
              "      <td>0</td>\n",
              "      <td>0</td>\n",
              "      <td>1251.322550</td>\n",
              "      <td>37881.820958</td>\n",
              "    </tr>\n",
              "  </tbody>\n",
              "</table>\n",
              "</div>"
            ],
            "text/plain": [
              "      default  student      balance        income\n",
              "6524        0        0   989.636310  27318.943706\n",
              "4626        0        0   603.661670  44663.736117\n",
              "8370        0        0  1491.707545  40637.447983\n",
              "5786        0        0   818.334937  27390.836912\n",
              "2550        0        0  1251.322550  37881.820958"
            ]
          },
          "metadata": {
            "tags": []
          },
          "execution_count": 363
        }
      ]
    },
    {
      "cell_type": "code",
      "metadata": {
        "id": "BQeOXwaZVlwQ",
        "colab_type": "code",
        "outputId": "fb19f12f-ed3a-4795-bde6-1b92a4897ff6",
        "colab": {
          "base_uri": "https://localhost:8080/",
          "height": 102
        }
      },
      "source": [
        "# Train model for train set\n",
        "train_model = LogisticRegression(penalty='none')\n",
        "train_model.fit(df_train[['balance', 'income', 'student']], \n",
        "                df_train['default'])"
      ],
      "execution_count": 0,
      "outputs": [
        {
          "output_type": "execute_result",
          "data": {
            "text/plain": [
              "LogisticRegression(C=1.0, class_weight=None, dual=False, fit_intercept=True,\n",
              "                   intercept_scaling=1, l1_ratio=None, max_iter=100,\n",
              "                   multi_class='auto', n_jobs=None, penalty='none',\n",
              "                   random_state=None, solver='lbfgs', tol=0.0001, verbose=0,\n",
              "                   warm_start=False)"
            ]
          },
          "metadata": {
            "tags": []
          },
          "execution_count": 364
        }
      ]
    },
    {
      "cell_type": "markdown",
      "metadata": {
        "id": "993KPAoqiql_",
        "colab_type": "text"
      },
      "source": [
        "### Oversampled train set"
      ]
    },
    {
      "cell_type": "code",
      "metadata": {
        "id": "mkQTW-W9VsTl",
        "colab_type": "code",
        "outputId": "19031c96-656b-4979-8ddd-6719f2482507",
        "colab": {
          "base_uri": "https://localhost:8080/",
          "height": 102
        }
      },
      "source": [
        "# Train model for train oversample set\n",
        "train_over_model = LogisticRegression(penalty='none')\n",
        "train_over_model.fit(df_train_over[['balance', 'income', 'student']], \n",
        "                     df_train_over['default'])"
      ],
      "execution_count": 0,
      "outputs": [
        {
          "output_type": "execute_result",
          "data": {
            "text/plain": [
              "LogisticRegression(C=1.0, class_weight=None, dual=False, fit_intercept=True,\n",
              "                   intercept_scaling=1, l1_ratio=None, max_iter=100,\n",
              "                   multi_class='auto', n_jobs=None, penalty='none',\n",
              "                   random_state=None, solver='lbfgs', tol=0.0001, verbose=0,\n",
              "                   warm_start=False)"
            ]
          },
          "metadata": {
            "tags": []
          },
          "execution_count": 365
        }
      ]
    },
    {
      "cell_type": "markdown",
      "metadata": {
        "id": "2qA4iv7RixyX",
        "colab_type": "text"
      },
      "source": [
        "### Undersampled train set"
      ]
    },
    {
      "cell_type": "code",
      "metadata": {
        "id": "rv2ZKtWuVwEZ",
        "colab_type": "code",
        "outputId": "13c0ac35-6ec7-43be-b16d-9f7b61bf4028",
        "colab": {
          "base_uri": "https://localhost:8080/",
          "height": 102
        }
      },
      "source": [
        "# Train model for train undersample set\n",
        "train_under_model = LogisticRegression(penalty='none')\n",
        "train_under_model.fit(df_train_under[['balance', 'income', 'student']], \n",
        "                      df_train_under['default'])"
      ],
      "execution_count": 0,
      "outputs": [
        {
          "output_type": "execute_result",
          "data": {
            "text/plain": [
              "LogisticRegression(C=1.0, class_weight=None, dual=False, fit_intercept=True,\n",
              "                   intercept_scaling=1, l1_ratio=None, max_iter=100,\n",
              "                   multi_class='auto', n_jobs=None, penalty='none',\n",
              "                   random_state=None, solver='lbfgs', tol=0.0001, verbose=0,\n",
              "                   warm_start=False)"
            ]
          },
          "metadata": {
            "tags": []
          },
          "execution_count": 366
        }
      ]
    },
    {
      "cell_type": "markdown",
      "metadata": {
        "id": "pB8-0Ks0h0p5",
        "colab_type": "text"
      },
      "source": [
        "## Examine the models"
      ]
    },
    {
      "cell_type": "code",
      "metadata": {
        "id": "bwXXJPvYwSRj",
        "colab_type": "code",
        "colab": {}
      },
      "source": [
        "# Import the SKLearn metric libraries \n",
        "from sklearn.metrics import confusion_matrix, accuracy_score, \\\n",
        "                            precision_score, recall_score"
      ],
      "execution_count": 0,
      "outputs": []
    },
    {
      "cell_type": "markdown",
      "metadata": {
        "id": "BlnBDasmlRuz",
        "colab_type": "text"
      },
      "source": [
        "### Examine df_train"
      ]
    },
    {
      "cell_type": "code",
      "metadata": {
        "id": "0GJ1qOLSsFNg",
        "colab_type": "code",
        "outputId": "5f1c9b00-102e-49e7-eced-3ef56bdbcf4f",
        "colab": {
          "base_uri": "https://localhost:8080/",
          "height": 51
        }
      },
      "source": [
        "# Predict the validation set using the training model\n",
        "df_validation['default_pred'] = train_model.predict(\n",
        "                                df_validation[['balance', 'income', 'student']])\n",
        "\n",
        "# Create confusion matrix\n",
        "#confusion_train = pd.crosstab(df_validation['default'],df_validation['default_pred'])\n",
        "\n",
        "# Create a confusion matrix\n",
        "confusion_train = confusion_matrix(df_validation['default'], \n",
        "                                   df_validation['default_pred'])\n",
        "\n",
        "# Display the results of the confusion matrix\n",
        "confusion_train"
      ],
      "execution_count": 0,
      "outputs": [
        {
          "output_type": "execute_result",
          "data": {
            "text/plain": [
              "array([[1912,   10],\n",
              "       [  62,   16]])"
            ]
          },
          "metadata": {
            "tags": []
          },
          "execution_count": 368
        }
      ]
    },
    {
      "cell_type": "code",
      "metadata": {
        "id": "bHF4_WmrpIZJ",
        "colab_type": "code",
        "outputId": "5dd61e8d-d082-407b-c94c-fe96757ce112",
        "colab": {
          "base_uri": "https://localhost:8080/",
          "height": 298
        }
      },
      "source": [
        "# Import the seaborn library for heatmap representations of confusion matrices\n",
        "import seaborn as sn\n",
        "\n",
        "# Generate a heatmap\n",
        "sn.heatmap(confusion_train, annot=True, cmap='Blues', fmt='d')\n",
        "\n",
        "# Set the title of the plot\n",
        "plt.title(\"Original Training Data\")"
      ],
      "execution_count": 0,
      "outputs": [
        {
          "output_type": "execute_result",
          "data": {
            "text/plain": [
              "Text(0.5, 1, 'Original Training Data')"
            ]
          },
          "metadata": {
            "tags": []
          },
          "execution_count": 369
        },
        {
          "output_type": "display_data",
          "data": {
            "image/png": "[encoded data removed]",
            "text/plain": [
              "<Figure size 432x288 with 2 Axes>"
            ]
          },
          "metadata": {
            "tags": []
          }
        }
      ]
    },
    {
      "cell_type": "code",
      "metadata": {
        "id": "4Cj6wr5luk2B",
        "colab_type": "code",
        "outputId": "6403ff7f-84ea-4214-e76f-44f322d1ff5c",
        "colab": {
          "base_uri": "https://localhost:8080/",
          "height": 68
        }
      },
      "source": [
        "# Calculate the accuracy of the predictions\n",
        "acc_train = accuracy_score(df_validation['default'], \n",
        "                           df_validation['default_pred'])\n",
        "\n",
        "# Calculate the precision score from the predictions\n",
        "precision_train = precision_score(df_validation['default'], \n",
        "                                  df_validation['default_pred'])\n",
        "\n",
        "# Calculate the recall score from the predictions\n",
        "recall_train = recall_score(df_validation['default'], \n",
        "                            df_validation['default_pred'])\n",
        "\n",
        "# Display the results\n",
        "print(\"Accuracy Score: \", acc_train)\n",
        "print(\"Precision Score: \", precision_train)\n",
        "print(\"Recall Score: \", recall_train)"
      ],
      "execution_count": 0,
      "outputs": [
        {
          "output_type": "stream",
          "text": [
            "Accuracy Score:  0.964\n",
            "Precision Score:  0.6153846153846154\n",
            "Recall Score:  0.20512820512820512\n"
          ],
          "name": "stdout"
        }
      ]
    },
    {
      "cell_type": "markdown",
      "metadata": {
        "id": "X0417HrilXwv",
        "colab_type": "text"
      },
      "source": [
        "### Examine df_train_over"
      ]
    },
    {
      "cell_type": "code",
      "metadata": {
        "id": "JCd56P2vsGIj",
        "colab_type": "code",
        "outputId": "498c1ae4-cfe3-4a83-d3c5-de9ea47ef184",
        "colab": {
          "base_uri": "https://localhost:8080/",
          "height": 51
        }
      },
      "source": [
        "# Predict the validation set using the oversampled model\n",
        "df_validation['default_pred_over'] = train_over_model.predict(\n",
        "                              df_validation[['balance', 'income', 'student']])\n",
        "\n",
        "# Create a confusion matrix\n",
        "confusion_train_over = confusion_matrix(df_validation['default'],\n",
        "                                        df_validation['default_pred_over'])\n",
        "\n",
        "# Display the results of the confusion matrix\n",
        "confusion_train_over"
      ],
      "execution_count": 0,
      "outputs": [
        {
          "output_type": "execute_result",
          "data": {
            "text/plain": [
              "array([[1244,  678],\n",
              "       [   8,   70]])"
            ]
          },
          "metadata": {
            "tags": []
          },
          "execution_count": 371
        }
      ]
    },
    {
      "cell_type": "code",
      "metadata": {
        "id": "xO5YgNXfrNAZ",
        "colab_type": "code",
        "outputId": "f94d6c1f-b27e-4400-caad-771c52760c7a",
        "colab": {
          "base_uri": "https://localhost:8080/",
          "height": 298
        }
      },
      "source": [
        "# Generate a heatmap\n",
        "sn.heatmap(confusion_train_over, annot=True, cmap='Blues', fmt='d')\n",
        "\n",
        "# Set the title of the plot\n",
        "plt.title(\"Oversampled Training Data\")"
      ],
      "execution_count": 0,
      "outputs": [
        {
          "output_type": "execute_result",
          "data": {
            "text/plain": [
              "Text(0.5, 1, 'Oversampled Training Data')"
            ]
          },
          "metadata": {
            "tags": []
          },
          "execution_count": 372
        },
        {
          "output_type": "display_data",
          "data": {
            "image/png": "[encoded data removed]",
            "text/plain": [
              "<Figure size 432x288 with 2 Axes>"
            ]
          },
          "metadata": {
            "tags": []
          }
        }
      ]
    },
    {
      "cell_type": "code",
      "metadata": {
        "id": "qtEC5PzhviFA",
        "colab_type": "code",
        "outputId": "8800df3d-adaa-4ca6-bf6c-67a1d3507105",
        "colab": {
          "base_uri": "https://localhost:8080/",
          "height": 68
        }
      },
      "source": [
        "# Calculate the accuracy of the predictions\n",
        "acc_train = accuracy_score(df_validation['default'], \n",
        "                           df_validation['default_pred_over'])\n",
        "\n",
        "# Calculate the precision score from the predictions\n",
        "precision_train = precision_score(df_validation['default'], \n",
        "                                  df_validation['default_pred_over'])\n",
        "\n",
        "# Calculate the recall score from the predictions\n",
        "recall_train = recall_score(df_validation['default'], \n",
        "                            df_validation['default_pred_over'])\n",
        "\n",
        "# Display the results\n",
        "print(\"Accuracy Score: \", acc_train)\n",
        "print(\"Precision Score: \", precision_train)\n",
        "print(\"Recall Score: \", recall_train)"
      ],
      "execution_count": 0,
      "outputs": [
        {
          "output_type": "stream",
          "text": [
            "Accuracy Score:  0.657\n",
            "Precision Score:  0.09358288770053476\n",
            "Recall Score:  0.8974358974358975\n"
          ],
          "name": "stdout"
        }
      ]
    },
    {
      "cell_type": "markdown",
      "metadata": {
        "id": "TKMvzj9TlovO",
        "colab_type": "text"
      },
      "source": [
        "### Examine df_train_under"
      ]
    },
    {
      "cell_type": "code",
      "metadata": {
        "id": "iVMmkiyCsG0W",
        "colab_type": "code",
        "outputId": "9d451bc0-9c2e-4046-c871-9d8dbfbd054a",
        "colab": {
          "base_uri": "https://localhost:8080/",
          "height": 51
        }
      },
      "source": [
        "# Predict the validation set using the undersampled model\n",
        "df_validation['default_pred_under'] = train_under_model.predict(\n",
        "                              df_validation[['balance', 'income', 'student']])\n",
        "\n",
        "# Create a confusion matrix\n",
        "confusion_train_under = confusion_matrix(df_validation['default'],\n",
        "                                         df_validation['default_pred_under'])\n",
        "\n",
        "# Display the results of the confusion matrix\n",
        "confusion_train_under"
      ],
      "execution_count": 0,
      "outputs": [
        {
          "output_type": "execute_result",
          "data": {
            "text/plain": [
              "array([[1627,  295],\n",
              "       [  10,   68]])"
            ]
          },
          "metadata": {
            "tags": []
          },
          "execution_count": 374
        }
      ]
    },
    {
      "cell_type": "code",
      "metadata": {
        "id": "qIQ913-6rpQB",
        "colab_type": "code",
        "outputId": "e33d5953-ee38-4377-9943-4a1e59bd1bdc",
        "colab": {
          "base_uri": "https://localhost:8080/",
          "height": 298
        }
      },
      "source": [
        "# Generate a heatmap\n",
        "sn.heatmap(confusion_train_under, annot=True, cmap='Blues', fmt='d')\n",
        "\n",
        "# Set the title of the plot\n",
        "plt.title(\"Undersampled Training Data\")"
      ],
      "execution_count": 0,
      "outputs": [
        {
          "output_type": "execute_result",
          "data": {
            "text/plain": [
              "Text(0.5, 1, 'Undersampled Training Data')"
            ]
          },
          "metadata": {
            "tags": []
          },
          "execution_count": 375
        },
        {
          "output_type": "display_data",
          "data": {
            "image/png": "[encoded data removed]",
            "text/plain": [
              "<Figure size 432x288 with 2 Axes>"
            ]
          },
          "metadata": {
            "tags": []
          }
        }
      ]
    },
    {
      "cell_type": "code",
      "metadata": {
        "id": "GoHGJSyJvuzY",
        "colab_type": "code",
        "outputId": "e76c6b7e-f1ce-43f5-a7ff-e5e1993d79fb",
        "colab": {
          "base_uri": "https://localhost:8080/",
          "height": 68
        }
      },
      "source": [
        "# Calculate the accuracy of the predictions\n",
        "acc_train = accuracy_score(df_validation['default'], \n",
        "                           df_validation['default_pred_under'])\n",
        "                           \n",
        "# Calculate the precision score from the predictions\n",
        "precision_train = precision_score(df_validation['default'], \n",
        "                                  df_validation['default_pred_under'])\n",
        "\n",
        "# Calculate the recall score from the predictions\n",
        "recall_train = recall_score(df_validation['default'], \n",
        "                            df_validation['default_pred_under'])\n",
        "\n",
        "# Display the results\n",
        "print(\"Accuracy Score: \", acc_train)\n",
        "print(\"Precision Score: \", precision_train)\n",
        "print(\"Recall Score: \", recall_train)"
      ],
      "execution_count": 0,
      "outputs": [
        {
          "output_type": "stream",
          "text": [
            "Accuracy Score:  0.8475\n",
            "Precision Score:  0.18732782369146006\n",
            "Recall Score:  0.8717948717948718\n"
          ],
          "name": "stdout"
        }
      ]
    },
    {
      "cell_type": "markdown",
      "metadata": {
        "id": "t8uR-DOix_LV",
        "colab_type": "text"
      },
      "source": [
        "### Discussion"
      ]
    },
    {
      "cell_type": "markdown",
      "metadata": {
        "id": "N4CdnVhvhXNI",
        "colab_type": "text"
      },
      "source": [
        "The three models that were used was the model based on the original training dataframe, the \n",
        "\n",
        "model trained on the oversampled training dataframe and the model trained on the undersampled \n",
        "\n",
        "training dataframe. For each of the three models the accuracy score, precision score, and the \n",
        "\n",
        "recall score is calculated and a corresponding confusion matrix is visualized. \n",
        "\n",
        "<br />\n",
        "\n",
        "The accuracy score is the highest in the original training model, however its precision and \n",
        "\n",
        "recall scores are much worse than the other two models. This is because the original model \n",
        "\n",
        "is a naive classifier that is trained with majority of True Negatives and hence has a very low \n",
        "\n",
        "ability to predict True Positives. \n",
        "\n",
        "<br />\n",
        "\n",
        "The recall and precision scores were the highest in the undersampled model. Running the \n",
        "\n",
        "simulation multiple times the undersampled model achieved equivalent or better scores \n",
        "\n",
        "compared with the oversampled model. Thus, I will choose this model being the best at \n",
        "\n",
        "detecting True Positives to predict on the testing dataframe."
      ]
    },
    {
      "cell_type": "markdown",
      "metadata": {
        "id": "DxYMWjs9wOnA",
        "colab_type": "text"
      },
      "source": [
        "## Apply to df_test"
      ]
    },
    {
      "cell_type": "code",
      "metadata": {
        "id": "zrxrj_tLwqY7",
        "colab_type": "code",
        "outputId": "8e20f5d2-f547-4f6a-8313-17bc4ab88227",
        "colab": {
          "base_uri": "https://localhost:8080/",
          "height": 332
        }
      },
      "source": [
        "# Predict the test set using the undersampled model\n",
        "df_test['default_pred'] = train_under_model.predict(\n",
        "                                      df_test[['balance', 'income', 'student']])\n",
        "\n",
        "# Create a confusion matrix\n",
        "confusion_test = confusion_matrix(df_test['default'], df_test['default_pred'])\n",
        "\n",
        "# Generate a heatmap\n",
        "sn.heatmap(confusion_test, annot=True, cmap='Blues', fmt='d')\n",
        "\n",
        "# Set the title of the plot\n",
        "plt.title('Test Data')\n",
        "\n",
        "# Calculate the accuracy of the predictions\n",
        "acc_train = accuracy_score(df_test['default'], df_test['default_pred'])\n",
        "\n",
        "# Calculate the precision score from the predictions\n",
        "precision_train = precision_score(df_test['default'], df_test['default_pred'])\n",
        "\n",
        "# Calculate the recall score from the predictions\n",
        "recall_train = recall_score(df_test['default'], df_test['default_pred'])\n",
        "\n",
        "# Display the results\n",
        "print(\"Accuracy Score: \", acc_train)\n",
        "print(\"Precision Score: \", precision_train)\n",
        "print(\"Recall Score: \", recall_train)"
      ],
      "execution_count": 0,
      "outputs": [
        {
          "output_type": "stream",
          "text": [
            "Accuracy Score:  0.835\n",
            "Precision Score:  0.14854111405835543\n",
            "Recall Score:  0.8615384615384616\n"
          ],
          "name": "stdout"
        },
        {
          "output_type": "display_data",
          "data": {
            "image/png": "[encoded data removed]",
            "text/plain": [
              "<Figure size 432x288 with 2 Axes>"
            ]
          },
          "metadata": {
            "tags": []
          }
        }
      ]
    },
    {
      "cell_type": "markdown",
      "metadata": {
        "id": "GeVpWSunyDy2",
        "colab_type": "text"
      },
      "source": [
        "### Discussion"
      ]
    },
    {
      "cell_type": "markdown",
      "metadata": {
        "id": "JdjAwPWGfqrg",
        "colab_type": "text"
      },
      "source": [
        "The results that were collected doing predictions on the test dataframe as compared with the \n",
        "\n",
        "validation dataframe is similar. The accuracy and recall scores are about 1% less in the testing \n",
        "\n",
        "dataframe results. The predision score in the test dataframe is a about 3% less that in the \n",
        "\n",
        "validation dataframe. But the three scores and the confusion matrix closely matches those in \n",
        "\n",
        "the undersampled model predictions of the validation dataset."
      ]
    }
  ]
}