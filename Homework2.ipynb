{
  "nbformat": 4,
  "nbformat_minor": 0,
  "metadata": {
    "colab": {
      "name": "Homework2.ipynb",
      "provenance": [],
      "collapsed_sections": []
    },
    "kernelspec": {
      "name": "python3",
      "display_name": "Python 3"
    }
  },
  "cells": [
    {
      "cell_type": "markdown",
      "metadata": {
        "id": "G9Y6inGesBij",
        "colab_type": "text"
      },
      "source": [
        "# Homework 2\n",
        "\n",
        "## Boston Housing Price Prediction\n",
        "\n",
        "## Demetrios Lambropoulos\n"
      ]
    },
    {
      "cell_type": "markdown",
      "metadata": {
        "id": "vanrpBEuJbz7",
        "colab_type": "text"
      },
      "source": [
        "### Derivation of Normal Equation"
      ]
    },
    {
      "cell_type": "markdown",
      "metadata": {
        "id": "Z6zEKi3bKkxB",
        "colab_type": "text"
      },
      "source": [
        "Normal Equation is \n",
        "\n",
        "$$ \\hat{\\beta} = (X^TX)^{-1}X^Ty$$"
      ]
    },
    {
      "cell_type": "markdown",
      "metadata": {
        "id": "MSNWFq0fS4Dr",
        "colab_type": "text"
      },
      "source": [
        "$$ RSS(\\beta) = \\sum_{i=1}^N (y_i - f(x_i))^2$$\n",
        "\n",
        "<br/>\n",
        "\n",
        "$$ = \\sum_{i=1}^N (y_i-x_i^T \\cdot\\beta)^2$$\n",
        "\n",
        "<br/>\n",
        "\n",
        "$$ = (y - X \\cdot \\beta)^T(y - X \\cdot \\beta)$$\n",
        "\n",
        "<br/>\n",
        "\n",
        "$$= y^Ty - \\beta^T\\cdot X^T \\cdot y - y^T \\cdot X \\cdot \\beta + \\beta^T \\cdot X^T \\cdot X \\cdot \\beta$$\n",
        "\n",
        "<br/>\n",
        "\n",
        "We will now take the partial derivative of $RSS(\\beta)$\n",
        "\n",
        "<br/>\n",
        "\n",
        "$$ \\frac{\\partial RSS(\\beta)}{\\partial \\beta}= \\frac{\\partial}{\\partial \\beta} [ y^Ty - \\beta^TX^Ty - y^TX\\beta + \\beta^TX^TX\\beta ] $$\n",
        "\n",
        "<br/>\n",
        "\n",
        "$$ \\frac{\\partial y^Ty}{\\partial\\beta} = 0 $$\n",
        "\n",
        "<br/>\n",
        "\n",
        "$$ \\beta^T \\cdot X^T = (X\\cdot\\beta)^T \\rightarrow (X\\cdot\\beta)^T\\cdot y$$\n",
        "\n",
        "<br/>\n",
        "\n",
        "We also have the term \n",
        "\n",
        "$$ y^T\\cdot (X\\cdot\\beta)$$\n",
        "\n",
        "From the commutative property we can see that\n",
        "\n",
        "<br/>\n",
        "\n",
        "$$ x\\cdot y^T = y\\cdot x^T$$\n",
        "\n",
        "<br/>\n",
        "\n",
        "$$ \\therefore (X\\cdot\\beta)^T\\cdot y = y^T \\cdot (X\\cdot\\beta)$$\n",
        "\n",
        "<br/>\n",
        "\n",
        "Since the partial derivative of $y^Ty$ goes to zero as we seen with \n",
        "\n",
        "the partial derivate and applying the commutative property we now have \n",
        "\n",
        "<br/>\n",
        "\n",
        "$$ \\frac{\\partial}{\\partial \\beta}[\\beta^T\\cdot X^T\\cdot X\\cdot\\beta - 2(X\\cdot\\beta)^T\\cdot y]$$\n",
        "\n",
        "<br/>\n",
        "\n",
        "$$ = \\frac{\\partial}{\\partial \\beta} [\\beta^T\\cdot X^T\\cdot X\\cdot\\beta] - \\frac{\\partial}{\\partial\\beta}[2(X\\cdot\\beta)^T\\cdot y]$$\n",
        "\n",
        "<br/>\n",
        "\n",
        "Working on the partial derivative of the left term we can apply\n",
        "\n",
        " the matrix calculus formula \n",
        "\n",
        "$$ \\frac{\\partial x^TAx}{\\partial x} = x^T(A+A^T)$$\n",
        "\n",
        "which result in\n",
        "\n",
        "<br/>\n",
        "\n",
        "$$ \\frac{\\partial}{\\partial\\beta}[\\beta^T\\cdot X^T\\cdot X\\cdot\\beta]= \\beta^T ( (X^TX) + (X^TX)^T ) $$\n",
        "\n",
        "<br/>\n",
        "\n",
        "$$ = 2 \\beta^T (X^TX)$$\n",
        "\n",
        "<br/>\n",
        "\n",
        "$$ = \\boxed{2 (X^TX)\\beta}$$\n",
        "\n",
        "<br/>\n",
        "\n",
        "Now to work on the right term we can take the constant $2$ out and \n",
        "\n",
        "apply the transpose on $ (X\\cdot\\beta)^T$ giving us\n",
        "\n",
        "$$ 2 \\frac{\\partial}{\\partial\\beta}\\beta^TX^Ty$$\n",
        "\n",
        "and using the property \n",
        "\n",
        "$$\\frac{\\partial x^TA}{\\partial x} = A^T$$\n",
        "\n",
        "we will get \n",
        "\n",
        "$$ 2\\frac{\\partial}{\\partial\\beta}\\beta^TX^Ty = 2(X^Ty)^T = \\boxed{2y^TX}$$\n",
        "\n",
        "Now combining the left and the right parts we now have \n",
        "\n",
        "$$ 2(X^TX)\\beta - 2y^TX $$\n",
        "\n",
        "Next lets consider that the global minimum will be found \n",
        "\n",
        "when this equation results in 0. \n",
        "\n",
        "So we can set the equation equal to zero and solve for $\\beta$.\n",
        "\n",
        "$$ 2(X^TX)\\beta-2y^TX=0 $$\n",
        "\n",
        "<br/>\n",
        "\n",
        "$$ 2(X^TX)\\beta = 2y^TX $$\n",
        "\n",
        "<br/>\n",
        "\n",
        "$$ \\beta = \\frac{2y^TX}{2(X^TX)} $$\n",
        "\n",
        "<br/>\n",
        "\n",
        "$$ \\beta = (X^TX)^{-1}(y^TX) $$\n",
        "\n",
        "Once again we can apply the commutative property from before \n",
        "\n",
        "on the term $(y^TX)$\n",
        "\n",
        "$$ \\therefore \\boxed{\\beta = (X^TX)^{-1}X^Ty} $$"
      ]
    },
    {
      "cell_type": "markdown",
      "metadata": {
        "id": "tOQsTAwZsXVt",
        "colab_type": "text"
      },
      "source": [
        "### Initialization"
      ]
    },
    {
      "cell_type": "code",
      "metadata": {
        "id": "UOCSisV3s15Q",
        "colab_type": "code",
        "colab": {}
      },
      "source": [
        "# Initialize the working environment libraries\n",
        "import numpy as np\n",
        "import pandas as pd\n",
        "import matplotlib.pyplot as plt\n",
        "%matplotlib inline"
      ],
      "execution_count": 0,
      "outputs": []
    },
    {
      "cell_type": "code",
      "metadata": {
        "id": "2SCqk08ysfBc",
        "colab_type": "code",
        "outputId": "07c23673-a653-4e5a-a488-7673221ba51e",
        "colab": {
          "base_uri": "https://localhost:8080/",
          "height": 224
        }
      },
      "source": [
        "# Load the data set\n",
        "data = pd.read_csv(\"https://raw.githubusercontent.com/selva86/datasets/master/BostonHousing.csv\")\n",
        "\n",
        "# Display the head of the loaded data\n",
        "data.head()"
      ],
      "execution_count": 0,
      "outputs": [
        {
          "output_type": "execute_result",
          "data": {
            "text/html": [
              "<div>\n",
              "<style scoped>\n",
              "    .dataframe tbody tr th:only-of-type {\n",
              "        vertical-align: middle;\n",
              "    }\n",
              "\n",
              "    .dataframe tbody tr th {\n",
              "        vertical-align: top;\n",
              "    }\n",
              "\n",
              "    .dataframe thead th {\n",
              "        text-align: right;\n",
              "    }\n",
              "</style>\n",
              "<table border=\"1\" class=\"dataframe\">\n",
              "  <thead>\n",
              "    <tr style=\"text-align: right;\">\n",
              "      <th></th>\n",
              "      <th>crim</th>\n",
              "      <th>zn</th>\n",
              "      <th>indus</th>\n",
              "      <th>chas</th>\n",
              "      <th>nox</th>\n",
              "      <th>rm</th>\n",
              "      <th>age</th>\n",
              "      <th>dis</th>\n",
              "      <th>rad</th>\n",
              "      <th>tax</th>\n",
              "      <th>ptratio</th>\n",
              "      <th>b</th>\n",
              "      <th>lstat</th>\n",
              "      <th>medv</th>\n",
              "    </tr>\n",
              "  </thead>\n",
              "  <tbody>\n",
              "    <tr>\n",
              "      <th>0</th>\n",
              "      <td>0.00632</td>\n",
              "      <td>18.0</td>\n",
              "      <td>2.31</td>\n",
              "      <td>0</td>\n",
              "      <td>0.538</td>\n",
              "      <td>6.575</td>\n",
              "      <td>65.2</td>\n",
              "      <td>4.0900</td>\n",
              "      <td>1</td>\n",
              "      <td>296</td>\n",
              "      <td>15.3</td>\n",
              "      <td>396.90</td>\n",
              "      <td>4.98</td>\n",
              "      <td>24.0</td>\n",
              "    </tr>\n",
              "    <tr>\n",
              "      <th>1</th>\n",
              "      <td>0.02731</td>\n",
              "      <td>0.0</td>\n",
              "      <td>7.07</td>\n",
              "      <td>0</td>\n",
              "      <td>0.469</td>\n",
              "      <td>6.421</td>\n",
              "      <td>78.9</td>\n",
              "      <td>4.9671</td>\n",
              "      <td>2</td>\n",
              "      <td>242</td>\n",
              "      <td>17.8</td>\n",
              "      <td>396.90</td>\n",
              "      <td>9.14</td>\n",
              "      <td>21.6</td>\n",
              "    </tr>\n",
              "    <tr>\n",
              "      <th>2</th>\n",
              "      <td>0.02729</td>\n",
              "      <td>0.0</td>\n",
              "      <td>7.07</td>\n",
              "      <td>0</td>\n",
              "      <td>0.469</td>\n",
              "      <td>7.185</td>\n",
              "      <td>61.1</td>\n",
              "      <td>4.9671</td>\n",
              "      <td>2</td>\n",
              "      <td>242</td>\n",
              "      <td>17.8</td>\n",
              "      <td>392.83</td>\n",
              "      <td>4.03</td>\n",
              "      <td>34.7</td>\n",
              "    </tr>\n",
              "    <tr>\n",
              "      <th>3</th>\n",
              "      <td>0.03237</td>\n",
              "      <td>0.0</td>\n",
              "      <td>2.18</td>\n",
              "      <td>0</td>\n",
              "      <td>0.458</td>\n",
              "      <td>6.998</td>\n",
              "      <td>45.8</td>\n",
              "      <td>6.0622</td>\n",
              "      <td>3</td>\n",
              "      <td>222</td>\n",
              "      <td>18.7</td>\n",
              "      <td>394.63</td>\n",
              "      <td>2.94</td>\n",
              "      <td>33.4</td>\n",
              "    </tr>\n",
              "    <tr>\n",
              "      <th>4</th>\n",
              "      <td>0.06905</td>\n",
              "      <td>0.0</td>\n",
              "      <td>2.18</td>\n",
              "      <td>0</td>\n",
              "      <td>0.458</td>\n",
              "      <td>7.147</td>\n",
              "      <td>54.2</td>\n",
              "      <td>6.0622</td>\n",
              "      <td>3</td>\n",
              "      <td>222</td>\n",
              "      <td>18.7</td>\n",
              "      <td>396.90</td>\n",
              "      <td>5.33</td>\n",
              "      <td>36.2</td>\n",
              "    </tr>\n",
              "  </tbody>\n",
              "</table>\n",
              "</div>"
            ],
            "text/plain": [
              "      crim    zn  indus  chas    nox  ...  tax  ptratio       b  lstat  medv\n",
              "0  0.00632  18.0   2.31     0  0.538  ...  296     15.3  396.90   4.98  24.0\n",
              "1  0.02731   0.0   7.07     0  0.469  ...  242     17.8  396.90   9.14  21.6\n",
              "2  0.02729   0.0   7.07     0  0.469  ...  242     17.8  392.83   4.03  34.7\n",
              "3  0.03237   0.0   2.18     0  0.458  ...  222     18.7  394.63   2.94  33.4\n",
              "4  0.06905   0.0   2.18     0  0.458  ...  222     18.7  396.90   5.33  36.2\n",
              "\n",
              "[5 rows x 14 columns]"
            ]
          },
          "metadata": {
            "tags": []
          },
          "execution_count": 3
        }
      ]
    },
    {
      "cell_type": "code",
      "metadata": {
        "id": "bOpkaq-ht3lZ",
        "colab_type": "code",
        "outputId": "ae639125-041b-47f5-cf71-c015d2e22f43",
        "colab": {
          "base_uri": "https://localhost:8080/",
          "height": 296
        }
      },
      "source": [
        "# Observe the relationship between lstat and medv\n",
        "plt.plot(data['lstat'], data['medv'], 'g.')\n",
        "plt.xlabel('lstat (percent of households with low socioeconomic status)')\n",
        "plt.ylabel('medv (median house value)')"
      ],
      "execution_count": 0,
      "outputs": [
        {
          "output_type": "execute_result",
          "data": {
            "text/plain": [
              "Text(0, 0.5, 'medv (median house value)')"
            ]
          },
          "metadata": {
            "tags": []
          },
          "execution_count": 6
        },
        {
          "output_type": "display_data",
          "data": {
            "image/png": "[encoded data removed]",
            "text/plain": [
              "<Figure size 432x288 with 1 Axes>"
            ]
          },
          "metadata": {
            "tags": []
          }
        }
      ]
    },
    {
      "cell_type": "markdown",
      "metadata": {
        "id": "QVxZJbYhtcgC",
        "colab_type": "text"
      },
      "source": [
        "### Obtain estimates of $\\beta_0$ and $\\beta_1$"
      ]
    },
    {
      "cell_type": "markdown",
      "metadata": {
        "id": "joZCY6z6w46W",
        "colab_type": "text"
      },
      "source": [
        "Our $\\hat{\\beta_1}$ will be calculated as follows \n",
        "\n",
        "$$\\hat{\\beta_1} = \\frac{\\sum_{i=1}^N(x_i-\\bar{x})(y_i - \\bar{y})}{\\sum_{i=1}^N (x_i - \\bar{x})^2}$$\n",
        "\n",
        "Our $\\hat{\\beta_0}$ can be calculated as follows\n",
        "\n",
        "$$\\hat{\\beta_0}=\\bar{y} - \\hat{\\beta_1}\\bar{x}$$\n",
        "\n",
        "where $\\bar{y}$ and $\\bar{x}$ are calculated as follows\n",
        "\n",
        "$$\\bar{x}=\\sum_{i=1}^N x_i$$\n",
        "$$\\bar{y}=\\sum_{i=1}^N y_i$$"
      ]
    },
    {
      "cell_type": "code",
      "metadata": {
        "id": "6H0NrtdRtsL7",
        "colab_type": "code",
        "outputId": "f3c9715b-3540-468e-9cf7-6e4d24fd4479",
        "colab": {
          "base_uri": "https://localhost:8080/",
          "height": 51
        }
      },
      "source": [
        "# Apply the formula directly to get beta_0 and beta_1\n",
        "xbar = sum(data['lstat'])/len(data['lstat'])\n",
        "ybar = sum(data['medv'])/len(data['medv'])\n",
        "\n",
        "numerator = sum( (data['lstat'] - xbar) * (data['medv'] - ybar) )\n",
        "denominator = sum( ( data['lstat'] - xbar ) ** 2 )\n",
        "\n",
        "beta1 = numerator / denominator\n",
        "\n",
        "beta0 = ybar - ( beta1 * xbar )\n",
        "\n",
        "print (\"Beta 0: \", beta0)\n",
        "print (\"Beta 1: \", beta1)"
      ],
      "execution_count": 0,
      "outputs": [
        {
          "output_type": "stream",
          "text": [
            "Beta 0:  34.553840879383124\n",
            "Beta 1:  -0.9500493537579905\n"
          ],
          "name": "stdout"
        }
      ]
    },
    {
      "cell_type": "code",
      "metadata": {
        "id": "qWW47SkMyPjG",
        "colab_type": "code",
        "outputId": "83be3380-0a07-4068-b410-1362c84ce954",
        "colab": {
          "base_uri": "https://localhost:8080/",
          "height": 51
        }
      },
      "source": [
        "# Compare results to regression fit \n",
        "from sklearn.linear_model import LinearRegression\n",
        "\n",
        "model_slm = LinearRegression()\n",
        "model_slm.fit(data[['lstat']], data['medv'])\n",
        "\n",
        "print (\"Beta 0: \", model_slm.intercept_)\n",
        "print (\"Beta 1: \", model_slm.coef_)"
      ],
      "execution_count": 0,
      "outputs": [
        {
          "output_type": "stream",
          "text": [
            "Beta 0:  34.5538408793831\n",
            "Beta 1:  [-0.95004935]\n"
          ],
          "name": "stdout"
        }
      ]
    },
    {
      "cell_type": "code",
      "metadata": {
        "id": "jFnqyBnTzTKO",
        "colab_type": "code",
        "outputId": "7285b088-21fe-4dd0-af12-347ca14caa1e",
        "colab": {
          "base_uri": "https://localhost:8080/",
          "height": 296
        }
      },
      "source": [
        "# Display beta coefficients with the data \n",
        "\n",
        "plt.plot(data['lstat'], data['medv'], 'g.')\n",
        "plt.xlabel('lstat (percent of households with low socioeconomic status)')\n",
        "plt.ylabel('medv (median house value)')\n",
        "\n",
        "# Plot the found beta coefficients\n",
        "x_coor = np.array([0, 35])\n",
        "y_coor = x_coor * beta1 + beta0\n",
        "plt.plot(x_coor, y_coor, \"r-\")\n"
      ],
      "execution_count": 0,
      "outputs": [
        {
          "output_type": "execute_result",
          "data": {
            "text/plain": [
              "[<matplotlib.lines.Line2D at 0x7f6768185ac8>]"
            ]
          },
          "metadata": {
            "tags": []
          },
          "execution_count": 17
        },
        {
          "output_type": "display_data",
          "data": {
            "image/png": "[encoded data removed]",
            "text/plain": [
              "<Figure size 432x288 with 1 Axes>"
            ]
          },
          "metadata": {
            "tags": []
          }
        }
      ]
    },
    {
      "cell_type": "markdown",
      "metadata": {
        "id": "plyflUisJyw9",
        "colab_type": "text"
      },
      "source": [
        "### 95% Confidence Interval"
      ]
    },
    {
      "cell_type": "markdown",
      "metadata": {
        "id": "Jd8oqGCw2Mk5",
        "colab_type": "text"
      },
      "source": [
        "95% Confidence intervals for $\\beta_0$ and $\\beta_1$ are as follows\n",
        "\n",
        "$$ [\\hat{\\beta_1} + 2 \\sqrt{Var(\\hat{\\beta_1})} , \\hat{\\beta_1} - 2 \\sqrt{Var(\\hat{\\beta_1})}] $$\n",
        "\n",
        "$$ [\\hat{\\beta_0} + 2 \\sqrt{Var(\\hat{\\beta_0})} , \\hat{\\beta_0} - 2 \\sqrt{Var(\\hat{\\beta_0})}] $$\n",
        "\n",
        "The variance of $\\hat{\\beta_1}$ and $\\hat{\\beta_0}$ can be found as follows\n",
        "\n",
        "$$ Var(\\hat{\\beta_0}) = \\frac{\\sigma^2 \\sum_{i=1}^n x_i^2}{N\\sum_{i=1}^N (x_i - \\bar{x})^2} $$\n",
        "\n",
        "$$ Var(\\hat{\\beta_1}) = \\frac{\\sigma^2}{\\sum_{i=1}^N(x_i - \\bar{x})^2} $$\n",
        "\n",
        "Since sigma is not known we can estimate it by the Residual Standard Error (RSE) squared as follows \n",
        "\n",
        "$$ RSE(\\hat{\\beta})^2=\\frac{\\sum_{i=1}^N(y_i - \\hat{\\beta_0} - \\hat{beta_1}x_i)^2}{N-2}$$"
      ]
    },
    {
      "cell_type": "code",
      "metadata": {
        "id": "beMVYR2u472I",
        "colab_type": "code",
        "outputId": "f1887520-6f07-416b-cca0-6424c61c5069",
        "colab": {
          "base_uri": "https://localhost:8080/",
          "height": 102
        }
      },
      "source": [
        "import math\n",
        "\n",
        "RSE_num = sum( (data['medv']  - beta0 - (beta1 * data['lstat'])) ** 2 )\n",
        "RSE_den = len(data['medv']) - 2\n",
        "\n",
        "sigma = RSE_num / RSE_den\n",
        "\n",
        "print (\"RSE_squared: \", sigma)\n",
        "\n",
        "VarBeta0_num = (sigma) * sum( data['lstat'] ** 2 )\n",
        "N = len( data['medv'] )\n",
        "VarBeta0_den = N * sum( (data['lstat'] - xbar) ** 2 )\n",
        "\n",
        "VarBeta0 = VarBeta0_num / VarBeta0_den\n",
        "\n",
        "print (\"Variance of beta0: \", VarBeta0)\n",
        "\n",
        "VarBeta1_num = sigma\n",
        "VarBeta1_den = sum ( ( data['lstat'] - xbar ) ** 2 )\n",
        "\n",
        "VarBeta1 = VarBeta1_num / VarBeta1_den\n",
        "\n",
        "print(\"Variance of beta1: \", VarBeta1)\n",
        "\n",
        "beta1_conf_upper = beta1 + 2 * math.sqrt(VarBeta1)\n",
        "beta1_conf_lower = beta1 - 2 * math.sqrt(VarBeta1)\n",
        "\n",
        "print (\"Confidence interval for beta1: [\",beta1_conf_upper,\",\",beta1_conf_lower,\"]\")\n",
        "\n",
        "beta0_conf_upper = beta0 + 2 * math.sqrt(VarBeta0)\n",
        "beta0_conf_lower = beta0 - 2 * math.sqrt(VarBeta0)\n",
        "\n",
        "print (\"Confidence interval for beta2: [\",beta0_conf_upper,\",\",beta0_conf_lower,\"]\")"
      ],
      "execution_count": 0,
      "outputs": [
        {
          "output_type": "stream",
          "text": [
            "RSE_squared:  38.63567741731437\n",
            "Variance of beta0:  0.31654954058127993\n",
            "Variance of beta1:  0.0015002775315015582\n",
            "Confidence interval for beta1: [ -0.8725825213327116 , -1.0275161861832693 ]\n",
            "Confidence interval for beta2: [ 35.67909558935999 , 33.42858616940626 ]\n"
          ],
          "name": "stdout"
        }
      ]
    },
    {
      "cell_type": "markdown",
      "metadata": {
        "id": "dpG924P2J4kT",
        "colab_type": "text"
      },
      "source": [
        "### RSE"
      ]
    },
    {
      "cell_type": "markdown",
      "metadata": {
        "id": "CN2b9TmnFZQO",
        "colab_type": "text"
      },
      "source": [
        "Residual Standard Error is given by the following\n",
        "\n",
        "$$ RSE(\\hat{\\beta}) = \\sqrt{\\frac{\\sum_{i=1}^N(y_i - \\hat{y_i})^2}{n-1}} = \\sqrt{\\frac{\\sum_{i=1}^N(y_i - \\hat{\\beta_0} - \\hat{\\beta_1}x_i)^2}{n-2}}$$"
      ]
    },
    {
      "cell_type": "code",
      "metadata": {
        "id": "Ao52lwDfGF1J",
        "colab_type": "code",
        "outputId": "16fbec87-c5ef-47e3-9383-8ae9017954ee",
        "colab": {
          "base_uri": "https://localhost:8080/",
          "height": 301
        }
      },
      "source": [
        "y_pred = beta1 * data['lstat'] + beta0\n",
        "\n",
        "RSE = math.sqrt( ( sum ( ( data['medv'] - y_pred ) ** 2 ) ) / ( len(data['medv']) - 2 ) )\n",
        "\n",
        "print (\"Residual Standard Error: \", RSE)\n",
        "\n",
        "data['medv'].hist()"
      ],
      "execution_count": 0,
      "outputs": [
        {
          "output_type": "stream",
          "text": [
            "Residual Standard Error:  6.215760405398069\n"
          ],
          "name": "stdout"
        },
        {
          "output_type": "execute_result",
          "data": {
            "text/plain": [
              "<matplotlib.axes._subplots.AxesSubplot at 0x7f676800eb70>"
            ]
          },
          "metadata": {
            "tags": []
          },
          "execution_count": 29
        },
        {
          "output_type": "display_data",
          "data": {
            "image/png": "[encoded data removed]",
            "text/plain": [
              "<Figure size 432x288 with 1 Axes>"
            ]
          },
          "metadata": {
            "tags": []
          }
        }
      ]
    },
    {
      "cell_type": "markdown",
      "metadata": {
        "id": "4Yug1txOJ7kc",
        "colab_type": "text"
      },
      "source": [
        "### $R^2$"
      ]
    },
    {
      "cell_type": "markdown",
      "metadata": {
        "id": "XWDRBEeJDUCO",
        "colab_type": "text"
      },
      "source": [
        "The $R^2$ statistic given by \n",
        "\n",
        "$$ R^2 = 1 - \\frac{RSS}{TSS} = 1 - \\frac{\\sum_{i=1}^N (y_i - \\hat{y_i})^2}{\\sum_{i=1}^N (y_i - \\bar{y})^2}$$"
      ]
    },
    {
      "cell_type": "code",
      "metadata": {
        "id": "qM9CqPD1EIc-",
        "colab_type": "code",
        "outputId": "fc2db3f5-2bb2-471f-cc87-ef470f27701c",
        "colab": {
          "base_uri": "https://localhost:8080/",
          "height": 34
        }
      },
      "source": [
        "num = sum( (data['medv'] - y_pred) ** 2)\n",
        "den = sum( ( data['medv'] - ybar ) ** 2 )\n",
        "r2 = 1 - (num/den)\n",
        "\n",
        "print (\"R2 statistic : \", r2)"
      ],
      "execution_count": 0,
      "outputs": [
        {
          "output_type": "stream",
          "text": [
            "R2 statistic :  0.54414629758648\n"
          ],
          "name": "stdout"
        }
      ]
    },
    {
      "cell_type": "markdown",
      "metadata": {
        "id": "7393HEEUKBY5",
        "colab_type": "text"
      },
      "source": [
        "### t-test"
      ]
    },
    {
      "cell_type": "code",
      "metadata": {
        "id": "grQf-fZeHPyK",
        "colab_type": "code",
        "outputId": "c2415e0e-56db-439b-f8e2-2ba0ac28f28a",
        "colab": {
          "base_uri": "https://localhost:8080/",
          "height": 82
        }
      },
      "source": [
        "# Assess coefficient estimates\n",
        "import statsmodels.formula.api as smf\n",
        "\n",
        "est = smf.ols('medv ~ lstat', data).fit()\n",
        "est.summary().tables[1]"
      ],
      "execution_count": 0,
      "outputs": [
        {
          "output_type": "execute_result",
          "data": {
            "text/html": [
              "<table class=\"simpletable\">\n",
              "<tr>\n",
              "      <td></td>         <th>coef</th>     <th>std err</th>      <th>t</th>      <th>P>|t|</th>  <th>[0.025</th>    <th>0.975]</th>  \n",
              "</tr>\n",
              "<tr>\n",
              "  <th>Intercept</th> <td>   34.5538</td> <td>    0.563</td> <td>   61.415</td> <td> 0.000</td> <td>   33.448</td> <td>   35.659</td>\n",
              "</tr>\n",
              "<tr>\n",
              "  <th>lstat</th>     <td>   -0.9500</td> <td>    0.039</td> <td>  -24.528</td> <td> 0.000</td> <td>   -1.026</td> <td>   -0.874</td>\n",
              "</tr>\n",
              "</table>"
            ],
            "text/plain": [
              "<class 'statsmodels.iolib.table.SimpleTable'>"
            ]
          },
          "metadata": {
            "tags": []
          },
          "execution_count": 30
        }
      ]
    },
    {
      "cell_type": "markdown",
      "metadata": {
        "id": "SDGsOWWcKEFA",
        "colab_type": "text"
      },
      "source": [
        "### Discussion"
      ]
    },
    {
      "cell_type": "markdown",
      "metadata": {
        "id": "mIkWJiQTH9Qa",
        "colab_type": "text"
      },
      "source": [
        "The `lstat` variable is a useful feature in predicting the `medv` variable. From \n",
        "\n",
        "the t-test we get a p-value $< 0.5$ representing statistical significance in that \n",
        "\n",
        "`lstat` can predict `medv` allowing us to reject the null hypothesis $H_0$. This \n",
        "\n",
        "signifies that there is a relationship between the feature `lstat` and `medv`. \n",
        "\n",
        "From the variance calculations for the beta coefficients, that were derived from \n",
        "\n",
        "`medv` and `lstat`, have very low variance. \n",
        "\n",
        "We can see the first few predicted values "
      ]
    },
    {
      "cell_type": "code",
      "metadata": {
        "id": "A1uGuX7JpyQL",
        "colab_type": "code",
        "outputId": "9b5c7dee-1d1c-4e48-d64d-6fcc773eef5c",
        "colab": {
          "base_uri": "https://localhost:8080/",
          "height": 119
        }
      },
      "source": [
        "y_pred.head()"
      ],
      "execution_count": 0,
      "outputs": [
        {
          "output_type": "execute_result",
          "data": {
            "text/plain": [
              "0    29.822595\n",
              "1    25.870390\n",
              "2    30.725142\n",
              "3    31.760696\n",
              "4    29.490078\n",
              "Name: lstat, dtype: float64"
            ]
          },
          "metadata": {
            "tags": []
          },
          "execution_count": 32
        }
      ]
    },
    {
      "cell_type": "markdown",
      "metadata": {
        "id": "LY6bc4iFp4KA",
        "colab_type": "text"
      },
      "source": [
        "compared with the first few actual values"
      ]
    },
    {
      "cell_type": "code",
      "metadata": {
        "id": "u0hMBtWjp8nP",
        "colab_type": "code",
        "outputId": "b1f56dda-9372-403b-e547-44e0a3022f99",
        "colab": {
          "base_uri": "https://localhost:8080/",
          "height": 119
        }
      },
      "source": [
        "data['medv'].head()"
      ],
      "execution_count": 0,
      "outputs": [
        {
          "output_type": "execute_result",
          "data": {
            "text/plain": [
              "0    24.0\n",
              "1    21.6\n",
              "2    34.7\n",
              "3    33.4\n",
              "4    36.2\n",
              "Name: medv, dtype: float64"
            ]
          },
          "metadata": {
            "tags": []
          },
          "execution_count": 33
        }
      ]
    },
    {
      "cell_type": "markdown",
      "metadata": {
        "id": "Fl9mQJFgsAME",
        "colab_type": "text"
      },
      "source": [
        "The difference between the predicted and actual values might signify that we \n",
        "\n",
        "are underfitting the data and that we might need to considering more features \n",
        "\n",
        "to use when predicting `medv` to get better predictions. If we did choose more \n",
        "\n",
        "features, we would just need to be careful that we are not adding too many \n",
        "\n",
        "features and overfit the data. "
      ]
    }
  ]
}