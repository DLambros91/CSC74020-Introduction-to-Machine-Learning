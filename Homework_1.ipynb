{
  "nbformat": 4,
  "nbformat_minor": 0,
  "metadata": {
    "colab": {
      "name": "Homework 1",
      "provenance": []
    },
    "kernelspec": {
      "name": "python3",
      "display_name": "Python 3"
    }
  },
  "cells": [
    {
      "cell_type": "markdown",
      "metadata": {
        "id": "GSmOn278y8Wz",
        "colab_type": "text"
      },
      "source": [
        "# Homework 1\n",
        "\n",
        "## Demetrios Lambropoulos\n",
        "\n",
        "## Zip Code Analysis\n",
        "\n"
      ]
    },
    {
      "cell_type": "markdown",
      "metadata": {
        "id": "tMJzbNWFKVOI",
        "colab_type": "text"
      },
      "source": [
        "### Initialization"
      ]
    },
    {
      "cell_type": "code",
      "metadata": {
        "id": "6nZARAT6zNb3",
        "colab_type": "code",
        "outputId": "ab6c9822-9d07-424f-8019-944629935aa0",
        "colab": {
          "base_uri": "https://localhost:8080/",
          "height": 204
        }
      },
      "source": [
        "# Obtain the ZIP Code Training Data Set\n",
        "!wget https://web.stanford.edu/~hastie/ElemStatLearn/datasets/zip.train.gz"
      ],
      "execution_count": 0,
      "outputs": [
        {
          "output_type": "stream",
          "text": [
            "--2020-02-07 00:04:21--  https://web.stanford.edu/~hastie/ElemStatLearn/datasets/zip.train.gz\n",
            "Resolving web.stanford.edu (web.stanford.edu)... 171.67.215.200\n",
            "Connecting to web.stanford.edu (web.stanford.edu)|171.67.215.200|:443... connected.\n",
            "HTTP request sent, awaiting response... 200 OK\n",
            "Length: 1829071 (1.7M) [application/x-gzip]\n",
            "Saving to: ‘zip.train.gz’\n",
            "\n",
            "zip.train.gz        100%[===================>]   1.74M   412KB/s    in 5.2s    \n",
            "\n",
            "2020-02-07 00:04:27 (346 KB/s) - ‘zip.train.gz’ saved [1829071/1829071]\n",
            "\n"
          ],
          "name": "stdout"
        }
      ]
    },
    {
      "cell_type": "code",
      "metadata": {
        "id": "7SSz8FsDzaAA",
        "colab_type": "code",
        "outputId": "e9454d51-6165-4a47-bed0-5195afda2e5d",
        "colab": {
          "base_uri": "https://localhost:8080/",
          "height": 204
        }
      },
      "source": [
        "# Obtain the ZIP Code Testing Data Set\n",
        "!wget https://web.stanford.edu/~hastie/ElemStatLearn/datasets/zip.test.gz"
      ],
      "execution_count": 0,
      "outputs": [
        {
          "output_type": "stream",
          "text": [
            "--2020-02-07 00:04:31--  https://web.stanford.edu/~hastie/ElemStatLearn/datasets/zip.test.gz\n",
            "Resolving web.stanford.edu (web.stanford.edu)... 171.67.215.200\n",
            "Connecting to web.stanford.edu (web.stanford.edu)|171.67.215.200|:443... connected.\n",
            "HTTP request sent, awaiting response... 200 OK\n",
            "Length: 439208 (429K) [application/x-gzip]\n",
            "Saving to: ‘zip.test.gz’\n",
            "\n",
            "zip.test.gz         100%[===================>] 428.91K   617KB/s    in 0.7s    \n",
            "\n",
            "2020-02-07 00:04:32 (617 KB/s) - ‘zip.test.gz’ saved [439208/439208]\n",
            "\n"
          ],
          "name": "stdout"
        }
      ]
    },
    {
      "cell_type": "code",
      "metadata": {
        "id": "Pg8Y736i1nIR",
        "colab_type": "code",
        "colab": {}
      },
      "source": [
        "# Extract both folders\n",
        "!gunzip zip.train.gz\n",
        "!gunzip zip.test.gz"
      ],
      "execution_count": 0,
      "outputs": []
    },
    {
      "cell_type": "code",
      "metadata": {
        "id": "KlDXOth32rVU",
        "colab_type": "code",
        "outputId": "09cf85fa-4f94-4e3f-a784-70fbe4faa867",
        "colab": {
          "base_uri": "https://localhost:8080/",
          "height": 85
        }
      },
      "source": [
        "# Library required for numerical matrix\n",
        "import numpy as np\n",
        "import pandas as pd\n",
        "import matplotlib.pyplot as plt\n",
        "%matplotlib inline\n",
        "from sklearn.linear_model import LinearRegression\n",
        "\n",
        "# Load the test dataset\n",
        "test = np.loadtxt('zip.test')\n",
        "\n",
        "# Load the train dataset\n",
        "train = np.loadtxt('zip.train')\n",
        "\n",
        "# Dummy iterator\n",
        "count = 0\n",
        "\n",
        "# Clean test dataset to only contain labels 2 and 3\n",
        "for i in test:\n",
        "  if i[0] != 2 and i[0] != 3:\n",
        "    test = np.delete(test, count, 0)\n",
        "  else:\n",
        "    count = count + 1\n",
        "\n",
        "# Confirm integrity of test dataset\n",
        "count_two = 0\n",
        "count_three = 0\n",
        "for i in test:\n",
        "  if i[0] == 2:\n",
        "    count_two = count_two + 1\n",
        "  if i[0] == 3:\n",
        "    count_three = count_three + 1\n",
        "\n",
        "# Display that all rows with either label has not been altered\n",
        "print (\"Number of rows in test set with label 2 : \", \n",
        "       count_two, \" Original: 198\" )\n",
        "print (\"Number of rows in test set with label 3 : \", \n",
        "       count_three, \" Original: 166\")\n",
        "\n",
        "# Clean train dataset to only contain labels 2 and 3\n",
        "count = 0\n",
        "for i in train:\n",
        "  if i[0] != 2 and i[0] != 3:\n",
        "    train = np.delete(train, count, 0)\n",
        "  else:\n",
        "    count = count + 1  \n",
        "\n",
        "# Confirm integrity of train dataset\n",
        "count_two = 0\n",
        "count_three = 0\n",
        "for i in train:\n",
        "  if i[0] == 2:\n",
        "    count_two = count_two + 1\n",
        "  if i[0] == 3:\n",
        "    count_three = count_three + 1\n",
        "\n",
        "# Display that all rows with either label has not been altered\n",
        "print (\"Number of rows in train set with label 2 : \", \n",
        "       count_two, \" Original: 731\" )\n",
        "print (\"Number of rows in train set with label 3 : \", \n",
        "       count_three, \" Original: 658\")    "
      ],
      "execution_count": 0,
      "outputs": [
        {
          "output_type": "stream",
          "text": [
            "Number of rows in test set with label 2 :  198  Original: 198\n",
            "Number of rows in test set with label 3 :  166  Original: 166\n",
            "Number of rows in train set with label 2 :  731  Original: 731\n",
            "Number of rows in train set with label 3 :  658  Original: 658\n"
          ],
          "name": "stdout"
        }
      ]
    },
    {
      "cell_type": "code",
      "metadata": {
        "id": "OUzPwEMYcm4S",
        "colab_type": "code",
        "colab": {}
      },
      "source": [
        "# Separate the training data to X and y\n",
        "y_train = train[:,0]\n",
        "x_train = train[:, 1:]\n",
        "\n",
        "# Separate the test data to X and y\n",
        "y_test = test[:,0]\n",
        "x_test = test[:, 1:]"
      ],
      "execution_count": 0,
      "outputs": []
    },
    {
      "cell_type": "markdown",
      "metadata": {
        "id": "Popzj3JCKORW",
        "colab_type": "text"
      },
      "source": [
        "### Linear Regression\n",
        "\n",
        "Predicted classifications can be given by \n",
        "\n",
        "$$\\hat{Y} = X^T\\hat{\\beta}$$\n",
        "\n",
        "Given that the X matrix in this example is invertible we can calculate the $\\hat{\\beta}$ with the following\n",
        "\n",
        "$$\\hat{\\beta} = (X^T X)^{-1}X^Ty$$\n",
        "\n",
        "The Residual Sum of Squares can be given by\n",
        "\n",
        "$$RSS(\\beta) = \\sum_{i=1}^N (y_i-x_i^T\\beta)^2$$\n",
        "$$   = (y - X\\beta)^T \\cdot (y - X\\beta)$$"
      ]
    },
    {
      "cell_type": "code",
      "metadata": {
        "id": "6xFkNjxRlKeB",
        "colab_type": "code",
        "outputId": "ed9fc4c2-89d8-41bf-be25-653993de3dbb",
        "colab": {
          "base_uri": "https://localhost:8080/",
          "height": 68
        }
      },
      "source": [
        "from sklearn.metrics import accuracy_score\n",
        "\n",
        "# Matrix is invertible \n",
        "# Obtain the beta regression values with the formula \n",
        "# (X^T * X)^-1 * X^T * y = beta\n",
        "beta = np.matmul(np.matmul(np.linalg.inv(np.matmul(x_train.transpose(), \n",
        "                                x_train)),x_train.transpose()), y_train)\n",
        "\n",
        "#print(beta.shape)\n",
        "#(x_train.shape)\n",
        "\n",
        "# Calculate the Residual Sum of Squares (RSS) = \n",
        "# (y - (X * beta) ^T) * (y - (X * beta))\n",
        "rss = np.matmul((y_train - np.matmul(x_train,beta)).transpose(), \n",
        "                (y_train - np.matmul(x_train, beta)))\n",
        "\n",
        "# Display the RSS value\n",
        "print(\"The Resisdual Sum of Squares (RSS) of the training set is \", rss)\n",
        "\n",
        "# Import the linear regression model from sklearn\n",
        "from sklearn.linear_model import LinearRegression\n",
        "\n",
        "# Initialize a new model\n",
        "linear_regression_model = LinearRegression()\n",
        "\n",
        "# Fit the model to the training data Xtrain and Ytrain\n",
        "linear_regression_model.fit(x_train, y_train)\n",
        "\n",
        "# Get the predicted classifications from the Linear Regression Model\n",
        "ypred = linear_regression_model.predict(x_train)\n",
        "\n",
        "# Calculate the Linear Regression error based on the training data\n",
        "train_linear_error = 1 - accuracy_score(y_train, ypred.round())\n",
        "\n",
        "# Display the result\n",
        "print (\"Train error - Linear \", train_linear_error)\n",
        "\n",
        "# Calculate the Linear Regression error based on the test data\n",
        "test_linear_error = 1 - accuracy_score(y_test, \n",
        "                                       linear_regression_model.predict(x_test)\n",
        "                                       .round())\n",
        "\n",
        "# Display the result\n",
        "print (\"Test error - Linear \", test_linear_error)"
      ],
      "execution_count": 0,
      "outputs": [
        {
          "output_type": "stream",
          "text": [
            "The Resisdual Sum of Squares (RSS) of the training set is  34.465042258668305\n",
            "Train error - Linear  0.005759539236861011\n",
            "Test error - Linear  0.04120879120879117\n"
          ],
          "name": "stdout"
        }
      ]
    },
    {
      "cell_type": "code",
      "metadata": {
        "id": "9uJ26-lFCWya",
        "colab_type": "code",
        "outputId": "444b1e46-403c-4001-9eaa-74839384a09b",
        "colab": {
          "base_uri": "https://localhost:8080/",
          "height": 296
        }
      },
      "source": [
        "# Plot the training and test set error in a Bar Chart\n",
        "plt.bar([\"Test\", \"Train\"], [test_linear_error, train_linear_error])\n",
        "\n",
        "# Set the X label\n",
        "plt.xlabel(\"Data Set\")\n",
        "\n",
        "# Set the Y label\n",
        "plt.ylabel(\"Error Rate\")"
      ],
      "execution_count": 0,
      "outputs": [
        {
          "output_type": "execute_result",
          "data": {
            "text/plain": [
              "Text(0, 0.5, 'Error Rate')"
            ]
          },
          "metadata": {
            "tags": []
          },
          "execution_count": 20
        },
        {
          "output_type": "display_data",
          "data": {
            "image/png": "[encoded data removed]",
            "text/plain": [
              "<Figure size 432x288 with 1 Axes>"
            ]
          },
          "metadata": {
            "tags": []
          }
        }
      ]
    },
    {
      "cell_type": "markdown",
      "metadata": {
        "id": "xQQCVFHP8smw",
        "colab_type": "text"
      },
      "source": [
        "### K-Nearest Neighbors\n",
        "\n",
        "$$\\hat{Y} = \\frac{1}{k} \\sum_{x_i \\in N_k(X)} y_i$$\n",
        "\n",
        "Where $N_k(X)$ is the neighborhood of $X$ defined by $k$ closest points in training set "
      ]
    },
    {
      "cell_type": "code",
      "metadata": {
        "id": "rHpH_aWwacgv",
        "colab_type": "code",
        "outputId": "0011854a-b4fa-4aea-8247-611e0c11177b",
        "colab": {
          "base_uri": "https://localhost:8080/",
          "height": 102
        }
      },
      "source": [
        "# Import the library for k-Nearest Neighbors\n",
        "from sklearn.neighbors import KNeighborsClassifier\n",
        "\n",
        "# Classifier for 1 neighbor\n",
        "neighbors1_classifier = KNeighborsClassifier(n_neighbors=1)\n",
        "\n",
        "# Classifier for 3 neighbors\n",
        "neighbors3_classifier = KNeighborsClassifier(n_neighbors=3)\n",
        "\n",
        "# Classifier for 5 neighbors\n",
        "neighbors5_classifier = KNeighborsClassifier(n_neighbors=5)\n",
        "\n",
        "# Classifier for 7 neighbors\n",
        "neighbors7_classifier = KNeighborsClassifier(n_neighbors=7)\n",
        "\n",
        "# Classifier for 15 neighbors\n",
        "neighbors15_classifier = KNeighborsClassifier(n_neighbors=15)\n",
        "\n",
        "# Fit the training data to the classifiers \n",
        "neighbors1_classifier.fit(x_train, y_train)\n",
        "neighbors3_classifier.fit(x_train, y_train)\n",
        "neighbors5_classifier.fit(x_train, y_train)\n",
        "neighbors7_classifier.fit(x_train, y_train)\n",
        "neighbors15_classifier.fit(x_train, y_train)\n",
        "\n",
        "# Obtain the y predicted \n",
        "y_1_predicted = neighbors1_classifier.predict(x_train)\n",
        "y_3_predicted = neighbors3_classifier.predict(x_train)\n",
        "y_5_predicted = neighbors5_classifier.predict(x_train)\n",
        "y_7_predicted = neighbors7_classifier.predict(x_train)\n",
        "y_15_predicted = neighbors15_classifier.predict(x_train)\n",
        "\n",
        "# Calculate the error rates for the training set\n",
        "train_error_rate_1 = 1 - accuracy_score(y_train, \n",
        "                                        neighbors1_classifier.predict(x_train))\n",
        "train_error_rate_3 = 1 - accuracy_score(y_train, \n",
        "                                        neighbors3_classifier.predict(x_train))\n",
        "train_error_rate_5 = 1 - accuracy_score(y_train, \n",
        "                                        neighbors5_classifier.predict(x_train))\n",
        "train_error_rate_7 = 1 - accuracy_score(y_train, \n",
        "                                        neighbors7_classifier.predict(x_train))\n",
        "train_error_rate_15 = 1 - accuracy_score(y_train, \n",
        "                                         neighbors15_classifier.predict(x_train))\n",
        "\n",
        "# Display the error rates for the training set\n",
        "print(\"The predicted error rate for k-nearest neighbors (n=1)\",\n",
        "       \"on the training set is\", train_error_rate_1)\n",
        "print(\"The predicted error rate for k-nearest neighbors (n=3)\",\n",
        " \"on the training set is\", train_error_rate_3)\n",
        "print(\"The predicted error rate for k-nearest neighbors (n=5)\",\n",
        "      \"on the training set is\", train_error_rate_5)\n",
        "print(\"The predicted error rate for k-nearest neighbors (n=7)\",\n",
        "      \"on the training set is\", train_error_rate_7)\n",
        "print(\"The predicted error rate for k-nearest neighbors (n=15)\",\n",
        "      \"on the training set is\", train_error_rate_15)"
      ],
      "execution_count": 0,
      "outputs": [
        {
          "output_type": "stream",
          "text": [
            "The predicted error rate for k-nearest neighbors (n=1) on the training set is 0.0\n",
            "The predicted error rate for k-nearest neighbors (n=3) on the training set is 0.005039596832253412\n",
            "The predicted error rate for k-nearest neighbors (n=5) on the training set is 0.005759539236861011\n",
            "The predicted error rate for k-nearest neighbors (n=7) on the training set is 0.006479481641468721\n",
            "The predicted error rate for k-nearest neighbors (n=15) on the training set is 0.009359251259899226\n"
          ],
          "name": "stdout"
        }
      ]
    },
    {
      "cell_type": "code",
      "metadata": {
        "id": "rMwpmAzhe_qK",
        "colab_type": "code",
        "outputId": "390cc447-0514-42b7-c0b7-4700bcd9b7ce",
        "colab": {
          "base_uri": "https://localhost:8080/",
          "height": 102
        }
      },
      "source": [
        "# Calculate the error rates for the test set\n",
        "test_error_rate_1 = 1 - accuracy_score(y_test, \n",
        "                                       neighbors1_classifier.predict(x_test))\n",
        "test_error_rate_3 = 1 - accuracy_score(y_test, \n",
        "                                       neighbors3_classifier.predict(x_test))\n",
        "test_error_rate_5 = 1 - accuracy_score(y_test, \n",
        "                                       neighbors5_classifier.predict(x_test))\n",
        "test_error_rate_7 = 1 - accuracy_score(y_test, \n",
        "                                       neighbors7_classifier.predict(x_test))\n",
        "test_error_rate_15 = 1 - accuracy_score(y_test, \n",
        "                                        neighbors15_classifier.predict(x_test))\n",
        "\n",
        "# Display the error rates for the test set\n",
        "print(\"The predicted error rate for k-nearest neighbors (n=1)\",\n",
        "      \"on the test set is\", test_error_rate_1)\n",
        "print(\"The predicted error rate for k-nearest neighbors (n=3)\",\n",
        "      \"on the test set is\", test_error_rate_3)\n",
        "print(\"The predicted error rate for k-nearest neighbors (n=5)\",\n",
        "      \"on the test set is\", test_error_rate_5)\n",
        "print(\"The predicted error rate for k-nearest neighbors (n=7)\",\n",
        "      \"on the test set is\", test_error_rate_7)\n",
        "print(\"The predicted error rate for k-nearest neighbors (n=15)\",\n",
        "      \"on the test set is\", test_error_rate_15)"
      ],
      "execution_count": 0,
      "outputs": [
        {
          "output_type": "stream",
          "text": [
            "The predicted error rate for k-nearest neighbors (n=1) on the test set is 0.02472527472527475\n",
            "The predicted error rate for k-nearest neighbors (n=3) on the test set is 0.030219780219780223\n",
            "The predicted error rate for k-nearest neighbors (n=5) on the test set is 0.030219780219780223\n",
            "The predicted error rate for k-nearest neighbors (n=7) on the test set is 0.03296703296703296\n",
            "The predicted error rate for k-nearest neighbors (n=15) on the test set is 0.038461538461538436\n"
          ],
          "name": "stdout"
        }
      ]
    },
    {
      "cell_type": "code",
      "metadata": {
        "id": "179YxhM883Qf",
        "colab_type": "code",
        "outputId": "31917acf-d752-40cb-8491-7023d748cb4d",
        "colab": {
          "base_uri": "https://localhost:8080/",
          "height": 298
        }
      },
      "source": [
        "# Create an array for the x-axis\n",
        "x_label = np.array([1,3,5,7,15])\n",
        "\n",
        "# Create an array for the y-axis for the training and test \n",
        "y_train_label = np.array([train_error_rate_1, train_error_rate_3, \n",
        "                          train_error_rate_5, train_error_rate_7, \n",
        "                          train_error_rate_15])\n",
        "y_test_label = np.array([test_error_rate_1, test_error_rate_3, \n",
        "                         test_error_rate_5, test_error_rate_7, \n",
        "                         test_error_rate_15])\n",
        "\n",
        "# Plot the error rates in comparison to the number of neighbors\n",
        "plt.plot(x_label, y_train_label, x_label, y_test_label)\n",
        "\n",
        "# Set the X label\n",
        "plt.xlabel(\"# of Neighbors\")\n",
        "\n",
        "# Set the Y label\n",
        "plt.ylabel(\"Error Rate\")\n",
        "\n",
        "# Add a legend to the plot\n",
        "plt.legend([\"Train Set\", \"Test Set\"])"
      ],
      "execution_count": 0,
      "outputs": [
        {
          "output_type": "execute_result",
          "data": {
            "text/plain": [
              "<matplotlib.legend.Legend at 0x7fa6dd693390>"
            ]
          },
          "metadata": {
            "tags": []
          },
          "execution_count": 18
        },
        {
          "output_type": "display_data",
          "data": {
            "image/png": "[encoded data removed]",
            "text/plain": [
              "<Figure size 432x288 with 1 Axes>"
            ]
          },
          "metadata": {
            "tags": []
          }
        }
      ]
    }
  ]
}