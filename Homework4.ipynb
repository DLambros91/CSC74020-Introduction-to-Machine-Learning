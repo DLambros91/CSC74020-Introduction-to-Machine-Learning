{
  "nbformat": 4,
  "nbformat_minor": 0,
  "metadata": {
    "colab": {
      "name": "Homework4.ipynb",
      "provenance": []
    },
    "kernelspec": {
      "name": "python3",
      "display_name": "Python 3"
    }
  },
  "cells": [
    {
      "cell_type": "markdown",
      "metadata": {
        "id": "_Aq0XCwECHYl",
        "colab_type": "text"
      },
      "source": [
        "# Homework 4 - Wage Prediction\n",
        "## Demetrios Lambropoulos"
      ]
    },
    {
      "cell_type": "markdown",
      "metadata": {
        "id": "_DAk1OR0DFZn",
        "colab_type": "text"
      },
      "source": [
        "## Setup"
      ]
    },
    {
      "cell_type": "markdown",
      "metadata": {
        "id": "pFJLaD88DSHn",
        "colab_type": "text"
      },
      "source": [
        "### Import required APIs"
      ]
    },
    {
      "cell_type": "code",
      "metadata": {
        "id": "143Ac_3eDXPq",
        "colab_type": "code",
        "colab": {}
      },
      "source": [
        "import pandas as pd\n",
        "import numpy as np\n",
        "import seaborn as sns\n",
        "from matplotlib import transforms, pyplot as plt\n",
        "%matplotlib inline"
      ],
      "execution_count": 0,
      "outputs": []
    },
    {
      "cell_type": "markdown",
      "metadata": {
        "id": "U3sDYQLHDHTw",
        "colab_type": "text"
      },
      "source": [
        "### Read CSV for Mid-Atlantic Wage Data"
      ]
    },
    {
      "cell_type": "code",
      "metadata": {
        "id": "4K-zzh8QDQ9i",
        "colab_type": "code",
        "outputId": "ac18bdd1-b94b-472a-9e3f-63f0ef80a863",
        "colab": {
          "base_uri": "https://localhost:8080/",
          "height": 191
        }
      },
      "source": [
        "# Read the age and wage columns from the CSV\n",
        "df = pd.read_csv(\n",
        "    \"https://raw.githubusercontent.com/JWarmenhoven/ISLR-python/master/Notebooks/Data/Wage.csv\",\n",
        "                  usecols=['age', 'wage'])\n",
        "\n",
        "# Display first 5 elements in each of the dataframes columns\n",
        "df.head()"
      ],
      "execution_count": 0,
      "outputs": [
        {
          "output_type": "execute_result",
          "data": {
            "text/html": [
              "<div>\n",
              "<style scoped>\n",
              "    .dataframe tbody tr th:only-of-type {\n",
              "        vertical-align: middle;\n",
              "    }\n",
              "\n",
              "    .dataframe tbody tr th {\n",
              "        vertical-align: top;\n",
              "    }\n",
              "\n",
              "    .dataframe thead th {\n",
              "        text-align: right;\n",
              "    }\n",
              "</style>\n",
              "<table border=\"1\" class=\"dataframe\">\n",
              "  <thead>\n",
              "    <tr style=\"text-align: right;\">\n",
              "      <th></th>\n",
              "      <th>age</th>\n",
              "      <th>wage</th>\n",
              "    </tr>\n",
              "  </thead>\n",
              "  <tbody>\n",
              "    <tr>\n",
              "      <th>0</th>\n",
              "      <td>18</td>\n",
              "      <td>75.043154</td>\n",
              "    </tr>\n",
              "    <tr>\n",
              "      <th>1</th>\n",
              "      <td>24</td>\n",
              "      <td>70.476020</td>\n",
              "    </tr>\n",
              "    <tr>\n",
              "      <th>2</th>\n",
              "      <td>45</td>\n",
              "      <td>130.982177</td>\n",
              "    </tr>\n",
              "    <tr>\n",
              "      <th>3</th>\n",
              "      <td>43</td>\n",
              "      <td>154.685293</td>\n",
              "    </tr>\n",
              "    <tr>\n",
              "      <th>4</th>\n",
              "      <td>50</td>\n",
              "      <td>75.043154</td>\n",
              "    </tr>\n",
              "  </tbody>\n",
              "</table>\n",
              "</div>"
            ],
            "text/plain": [
              "   age        wage\n",
              "0   18   75.043154\n",
              "1   24   70.476020\n",
              "2   45  130.982177\n",
              "3   43  154.685293\n",
              "4   50   75.043154"
            ]
          },
          "metadata": {
            "tags": []
          },
          "execution_count": 104
        }
      ]
    },
    {
      "cell_type": "markdown",
      "metadata": {
        "id": "XRkuLnQtCn5Y",
        "colab_type": "text"
      },
      "source": [
        "## Polynomial Regression"
      ]
    },
    {
      "cell_type": "markdown",
      "metadata": {
        "id": "OYSsktjzDCPe",
        "colab_type": "text"
      },
      "source": [
        "### Build degree 4 polynomial with input feature `age` and `wage`. "
      ]
    },
    {
      "cell_type": "code",
      "metadata": {
        "id": "NP4I4b00E2KN",
        "colab_type": "code",
        "outputId": "821368ec-a92c-4b7a-b876-ce07644d1924",
        "colab": {
          "base_uri": "https://localhost:8080/",
          "height": 295
        }
      },
      "source": [
        "# Visualize age vs wage\n",
        "plt.plot(df['age'], df['wage'], '.')\n",
        "\n",
        "# Label the Y-axis\n",
        "plt.ylabel(\"wage\")\n",
        "\n",
        "# Label the X-axis\n",
        "plt.xlabel(\"age\")"
      ],
      "execution_count": 0,
      "outputs": [
        {
          "output_type": "execute_result",
          "data": {
            "text/plain": [
              "Text(0.5, 0, 'age')"
            ]
          },
          "metadata": {
            "tags": []
          },
          "execution_count": 105
        },
        {
          "output_type": "display_data",
          "data": {
            "image/png": "[encoded data removed]",
            "text/plain": [
              "<Figure size 432x288 with 1 Axes>"
            ]
          },
          "metadata": {
            "tags": []
          }
        }
      ]
    },
    {
      "cell_type": "code",
      "metadata": {
        "id": "L1qdq63YIvgO",
        "colab_type": "code",
        "colab": {}
      },
      "source": [
        "# Create an empty input matrix\n",
        "X = []\n",
        "\n",
        "# Populate the matrix\n",
        "for i in range (len(df['age'])):\n",
        "  X.append([])\n",
        "  for j in range (5):\n",
        "    X[i].append(df.at[i,'age'] **  j)\n",
        "\n",
        "# Convert list to numpy array\n",
        "X = np.array(X)\n",
        "\n",
        "# Populate the y matrix    \n",
        "y = df['wage']\n",
        "\n",
        "# Convert y to a numpy array\n",
        "y = np.array(y)"
      ],
      "execution_count": 0,
      "outputs": []
    },
    {
      "cell_type": "code",
      "metadata": {
        "id": "ygfcNJ6XQKRj",
        "colab_type": "code",
        "colab": {}
      },
      "source": [
        "# Calculate the beta values using the normal equation\n",
        "beta = np.matmul(np.matmul(np.linalg.inv(np.matmul(X.transpose(), \n",
        "                                X)),X.transpose()), y)"
      ],
      "execution_count": 0,
      "outputs": []
    },
    {
      "cell_type": "code",
      "metadata": {
        "id": "-u5midybWg-A",
        "colab_type": "code",
        "outputId": "a8b0ead4-6dad-48ce-d6f6-4c362a659b19",
        "colab": {
          "base_uri": "https://localhost:8080/",
          "height": 98
        }
      },
      "source": [
        "# Display beta values\n",
        "print(\"Beta 0:\",beta[0])\n",
        "print(\"Beta 1:\",beta[1])\n",
        "print(\"Beta 2:\",beta[2])\n",
        "print(\"Beta 3:\",beta[3])\n",
        "print(\"Beta 4:\",beta[4])"
      ],
      "execution_count": 0,
      "outputs": [
        {
          "output_type": "stream",
          "text": [
            "Beta 0: -184.15417977546934\n",
            "Beta 1: 21.24552053145417\n",
            "Beta 2: -0.5638593125392688\n",
            "Beta 3: 0.006810687713902145\n",
            "Beta 4: -3.2038303747730534e-05\n"
          ],
          "name": "stdout"
        }
      ]
    },
    {
      "cell_type": "markdown",
      "metadata": {
        "id": "tm-rIw5FYOV-",
        "colab_type": "text"
      },
      "source": [
        "### Plot the regression curve "
      ]
    },
    {
      "cell_type": "code",
      "metadata": {
        "id": "d2EUhMI1YW18",
        "colab_type": "code",
        "outputId": "508f0ab1-6dc4-4b7b-8b4e-c54b6c861cfb",
        "colab": {
          "base_uri": "https://localhost:8080/",
          "height": 327
        }
      },
      "source": [
        " #X_test = np.arange(start=0, stop=100, step=1)\n",
        "# Create an empty list\n",
        "X_test = []\n",
        "\n",
        "# Populate the list with matrix elements\n",
        "for i in range(len(np.arange(start=20,stop=86,step=1))):\n",
        "  X_test.append([])\n",
        "  for j in range(5):\n",
        "    X_test[i].append( i ** j )\n",
        "\n",
        "# Convert list to numpy array\n",
        "X_test = np.array(X_test)\n",
        "X_test\n",
        "\n",
        "# Obtain predicted wages from X*beta \n",
        "y_pred = np.matmul(X_test, beta)\n",
        "y_pred\n",
        "\n",
        "# Display beta values\n",
        "print(beta)\n",
        "\n",
        "#print(len(np.arange(start=0,stop=101,step=1)))\n",
        "#print(len(y_pred))\n",
        "\n",
        "# Plot the age vs wage data\n",
        "plt.plot(df['age'], df['wage'],'.b')\n",
        "\n",
        "# Plot the degree-4 regression line over the data\n",
        "plt.plot( X_test[10:,1:2], y_pred[10:], '.r')\n",
        "\n",
        "#plt.plot(X_test[1:10,3], y_pred[66:], '.r')\n",
        "\n",
        "# Label the Y-axis\n",
        "plt.ylabel(\"wage\")\n",
        "\n",
        "# Label the X-axis\n",
        "plt.xlabel(\"age\")\n",
        "\n",
        "#X_test.shape\n",
        "#y_pred.shape"
      ],
      "execution_count": 0,
      "outputs": [
        {
          "output_type": "stream",
          "text": [
            "[-1.84154180e+02  2.12455205e+01 -5.63859313e-01  6.81068771e-03\n",
            " -3.20383037e-05]\n"
          ],
          "name": "stdout"
        },
        {
          "output_type": "execute_result",
          "data": {
            "text/plain": [
              "Text(0.5, 0, 'age')"
            ]
          },
          "metadata": {
            "tags": []
          },
          "execution_count": 109
        },
        {
          "output_type": "display_data",
          "data": {
            "image/png": "[encoded data removed]",
            "text/plain": [
              "<Figure size 432x288 with 1 Axes>"
            ]
          },
          "metadata": {
            "tags": []
          }
        }
      ]
    },
    {
      "cell_type": "code",
      "metadata": {
        "id": "fyyE_KSV1M8b",
        "colab_type": "code",
        "outputId": "b9f2d42f-da8f-4fd3-c4c4-a571057db0f3",
        "colab": {
          "base_uri": "https://localhost:8080/",
          "height": 743
        }
      },
      "source": [
        "# Import PolynomialFeatures library \n",
        "from sklearn.preprocessing import PolynomialFeatures\n",
        "\n",
        "# Import the linear regression library\n",
        "from sklearn.linear_model import LinearRegression\n",
        "\n",
        "# Populate our X values\n",
        "X = df['age']\n",
        "\n",
        "# Populate our Y values\n",
        "y = df['wage']\n",
        "\n",
        "# Create PolynomialFeatures of degrees 1-5\n",
        "poly1 = PolynomialFeatures(degree=1)\n",
        "poly2 = PolynomialFeatures(degree=2)\n",
        "poly3 = PolynomialFeatures(degree=3)\n",
        "poly4 = PolynomialFeatures(degree=4)\n",
        "poly5 = PolynomialFeatures(degree=5)\n",
        "\n",
        "# Reshape the X values\n",
        "X1 = X.values.reshape(-1,1)\n",
        "\n",
        "# Fit transform our X values for degree 1-5 polynomials\n",
        "X1poly = poly1.fit_transform(X1)\n",
        "X2poly = poly2.fit_transform(X1)\n",
        "X3poly = poly3.fit_transform(X1)\n",
        "X4poly = poly4.fit_transform(X1)\n",
        "X5poly = poly5.fit_transform(X1)\n",
        "\n",
        "# Create Linear Regression models for each degree polynomial\n",
        "reg1 = LinearRegression()\n",
        "reg2 = LinearRegression()\n",
        "reg3 = LinearRegression()\n",
        "reg4 = LinearRegression()\n",
        "reg5 = LinearRegression()\n",
        "\n",
        "# Display beta coefficients and intercepts for each degree polynomial\n",
        "reg1.fit(X1poly, y)\n",
        "print('polynomial degree-1')\n",
        "print('beta0:', reg1.intercept_)\n",
        "print('betas:',reg1.coef_)\n",
        "print('\\n')\n",
        "\n",
        "reg2.fit(X2poly, y)\n",
        "print('polynomial degree-2')\n",
        "print('beta0:',reg2.intercept_)\n",
        "print('betas:',reg2.coef_)\n",
        "print('\\n')\n",
        "\n",
        "reg3.fit(X3poly, y)\n",
        "print('polynomial degree-3')\n",
        "print('beta0:',reg3.intercept_)\n",
        "print('betas:',reg3.coef_)\n",
        "print('\\n')\n",
        "\n",
        "reg4.fit(X4poly, y)\n",
        "print('polynomial degree-4')\n",
        "print('beta0:',reg4.intercept_)\n",
        "print('betas:',reg4.coef_)\n",
        "print('\\n')\n",
        "\n",
        "#reg1\n",
        "\n",
        "# Plot the regressions to compare fits between 1-4 degree polynomials\n",
        "fig, axs = plt.subplots(2,2, figsize=(10.0,6.0))\n",
        "axs[0,0].plot(X,y,'.b')\n",
        "axs[0,0].plot(X1poly[:,1],reg1.predict(X1poly),'.r')\n",
        "axs[0,0].set_title('Degree-1 Poly Reg')\n",
        "axs[0,0].set_xlabel('age')\n",
        "axs[0,1].plot(X,y,'.b')\n",
        "axs[0,1].plot(X2poly[:,1],reg2.predict(X2poly), '.r')\n",
        "axs[0,1].set_title('Degree-2 Poly Reg')\n",
        "axs[0,1].set_xlabel('age')\n",
        "axs[1,0].plot(X,y,'.b')\n",
        "axs[1,0].plot(X3poly[:,1],reg3.predict(X3poly),'.r')\n",
        "axs[1,0].set_title('Degree-3 Poly Reg')\n",
        "axs[1,0].set_xlabel('age')\n",
        "axs[1,1].plot(X,y,'.b')\n",
        "axs[1,1].plot(X4poly[:,1],reg4.predict(X4poly),'.r')\n",
        "axs[1,1].set_title('Degree-4 Poly Reg')\n",
        "axs[1,1].set_xlabel('age')\n",
        "fig.tight_layout(pad=3.0)\n",
        "#plt.scatter(X,y,color='red')\n",
        "#plt.plot(X,reg.predict(X4poly), color='blue')"
      ],
      "execution_count": 0,
      "outputs": [
        {
          "output_type": "stream",
          "text": [
            "polynomial degree-1\n",
            "beta0: 81.70473544394636\n",
            "betas: [0.         0.70727593]\n",
            "\n",
            "\n",
            "polynomial degree-2\n",
            "beta0: -10.425224262031506\n",
            "betas: [ 0.          5.29403003 -0.05300507]\n",
            "\n",
            "\n",
            "polynomial degree-3\n",
            "beta0: -75.2439142237388\n",
            "betas: [ 0.00000000e+00  1.01899915e+01 -1.68028587e-01  8.49452197e-04]\n",
            "\n",
            "\n",
            "polynomial degree-4\n",
            "beta0: -184.15417973416095\n",
            "betas: [ 0.00000000e+00  2.12455205e+01 -5.63859312e-01  6.81068771e-03\n",
            " -3.20383038e-05]\n",
            "\n",
            "\n"
          ],
          "name": "stdout"
        },
        {
          "output_type": "display_data",
          "data": {
            "image/png": "[encoded data removed]",
            "text/plain": [
              "<Figure size 720x432 with 4 Axes>"
            ]
          },
          "metadata": {
            "tags": []
          }
        }
      ]
    },
    {
      "cell_type": "markdown",
      "metadata": {
        "id": "jxDvCpzSKOzu",
        "colab_type": "text"
      },
      "source": [
        "### Perform 5-fold cross validation (Degree = 3)"
      ]
    },
    {
      "cell_type": "code",
      "metadata": {
        "id": "QIpPLTTGS6Lf",
        "colab_type": "code",
        "colab": {}
      },
      "source": [
        "# Import necessary library to split data into a train and test set with 80/20\n",
        "# split\n",
        "from sklearn.model_selection import train_test_split\n",
        "\n",
        "# Import library to compute cross validation scores\n",
        "from sklearn.model_selection import cross_val_score\n",
        "from sklearn import metrics\n"
      ],
      "execution_count": 0,
      "outputs": []
    },
    {
      "cell_type": "code",
      "metadata": {
        "id": "g7uiC10svtwU",
        "colab_type": "code",
        "outputId": "e59d4414-81fa-444a-e230-f037fd2a88aa",
        "colab": {
          "base_uri": "https://localhost:8080/",
          "height": 33
        }
      },
      "source": [
        "# Create Linear Regression model\n",
        "lr = LinearRegression()\n",
        "\n",
        "# Compute Cross Validation Scores\n",
        "scores = cross_val_score(lr, # estimator model\n",
        "                         X3poly, # Data to fit\n",
        "                         y, # Target variable\n",
        "                         cv=5, # Use 5-fold cross validation\n",
        "                         scoring='r2') # Obtain the R^2 scoring\n",
        "\n",
        "# Display average R^2 score with standard deviation\n",
        "print(\"Average R^2 score for Degree-3: %0.5f (+/- %0.5f)\" % (scores.mean(), \n",
        "                                                             scores.std()*2))"
      ],
      "execution_count": 0,
      "outputs": [
        {
          "output_type": "stream",
          "text": [
            "Average R^2 score for Degree-3: 0.08312 (+/- 0.01481)\n"
          ],
          "name": "stdout"
        }
      ]
    },
    {
      "cell_type": "markdown",
      "metadata": {
        "id": "WWYZRMzuKYhj",
        "colab_type": "text"
      },
      "source": [
        "### Perform 5-fold cross validation (Degree = 4)"
      ]
    },
    {
      "cell_type": "code",
      "metadata": {
        "id": "9Xe-ygRwRKJK",
        "colab_type": "code",
        "outputId": "e0155a39-999c-4d4e-9415-4282103ab194",
        "colab": {
          "base_uri": "https://localhost:8080/",
          "height": 33
        }
      },
      "source": [
        "# Create Linear Regression model\n",
        "lr = LinearRegression()\n",
        "\n",
        "# Compute Cross Validation Scores\n",
        "scores = cross_val_score(lr, # estimator model\n",
        "                         X4poly, # Data to fit\n",
        "                         y, # Target variable\n",
        "                         cv=5, # Use 5-fold cross validation\n",
        "                         scoring='r2') # Obtain the R^2 scoring\n",
        "\n",
        "# Display average R^2 score with standard deviation\n",
        "print(\"Average R^2 score for Degree-4: %0.5f (+/- %0.5f)\" % (scores.mean(), \n",
        "                                                             scores.std()*2))"
      ],
      "execution_count": 0,
      "outputs": [
        {
          "output_type": "stream",
          "text": [
            "Average R^2 score for Degree-4: 0.08355 (+/- 0.01217)\n"
          ],
          "name": "stdout"
        }
      ]
    },
    {
      "cell_type": "markdown",
      "metadata": {
        "id": "bLbH3KuwKZoG",
        "colab_type": "text"
      },
      "source": [
        "### Perform 5-fold cross validation (Degree = 5)"
      ]
    },
    {
      "cell_type": "code",
      "metadata": {
        "id": "2vSbp0kRWH9L",
        "colab_type": "code",
        "outputId": "8c03f654-37bd-4539-ab20-f3dad6a09c44",
        "colab": {
          "base_uri": "https://localhost:8080/",
          "height": 33
        }
      },
      "source": [
        "# Create Linear Regression model\n",
        "lr = LinearRegression()\n",
        "\n",
        "# Compute Cross Validation Scores\n",
        "scores = cross_val_score(lr, # estimator model\n",
        "                         X5poly, # Data to fit\n",
        "                         y, # Target variable\n",
        "                         cv=5, # Use 5-fold cross validation\n",
        "                         scoring='r2') # Obtain the R^2 scoring\n",
        "\n",
        "# Display average R^2 score with standard deviation\n",
        "print(\"Average R^2 score for Degree-5: %0.5f (+/- %0.5f)\" % (scores.mean(), \n",
        "                                                             scores.std()*2))"
      ],
      "execution_count": 0,
      "outputs": [
        {
          "output_type": "stream",
          "text": [
            "Average R^2 score for Degree-5: 0.08258 (+/- 0.01369)\n"
          ],
          "name": "stdout"
        }
      ]
    },
    {
      "cell_type": "markdown",
      "metadata": {
        "id": "o2ifT8dGWzxl",
        "colab_type": "text"
      },
      "source": [
        "### Build Degree 5 poly using `statsmodel`"
      ]
    },
    {
      "cell_type": "code",
      "metadata": {
        "id": "OTI1UwDGW9FW",
        "colab_type": "code",
        "outputId": "e560431e-f0bc-4081-d965-e571407d868a",
        "colab": {
          "base_uri": "https://localhost:8080/",
          "height": 485
        }
      },
      "source": [
        "import statsmodels.api as sm \n",
        "xp = poly5.fit_transform(X1)\n",
        "model = sm.OLS(y, poly5.fit_transform(X1)).fit()\n",
        "ypred = model.predict(xp)\n",
        "model.summary()"
      ],
      "execution_count": 0,
      "outputs": [
        {
          "output_type": "execute_result",
          "data": {
            "text/html": [
              "<table class=\"simpletable\">\n",
              "<caption>OLS Regression Results</caption>\n",
              "<tr>\n",
              "  <th>Dep. Variable:</th>          <td>wage</td>       <th>  R-squared:         </th> <td>   0.087</td> \n",
              "</tr>\n",
              "<tr>\n",
              "  <th>Model:</th>                   <td>OLS</td>       <th>  Adj. R-squared:    </th> <td>   0.085</td> \n",
              "</tr>\n",
              "<tr>\n",
              "  <th>Method:</th>             <td>Least Squares</td>  <th>  F-statistic:       </th> <td>   56.71</td> \n",
              "</tr>\n",
              "<tr>\n",
              "  <th>Date:</th>             <td>Mon, 16 Mar 2020</td> <th>  Prob (F-statistic):</th> <td>1.67e-56</td> \n",
              "</tr>\n",
              "<tr>\n",
              "  <th>Time:</th>                 <td>01:20:57</td>     <th>  Log-Likelihood:    </th> <td> -15314.</td> \n",
              "</tr>\n",
              "<tr>\n",
              "  <th>No. Observations:</th>      <td>  3000</td>      <th>  AIC:               </th> <td>3.064e+04</td>\n",
              "</tr>\n",
              "<tr>\n",
              "  <th>Df Residuals:</th>          <td>  2994</td>      <th>  BIC:               </th> <td>3.068e+04</td>\n",
              "</tr>\n",
              "<tr>\n",
              "  <th>Df Model:</th>              <td>     5</td>      <th>                     </th>     <td> </td>    \n",
              "</tr>\n",
              "<tr>\n",
              "  <th>Covariance Type:</th>      <td>nonrobust</td>    <th>                     </th>     <td> </td>    \n",
              "</tr>\n",
              "</table>\n",
              "<table class=\"simpletable\">\n",
              "<tr>\n",
              "    <td></td>       <th>coef</th>     <th>std err</th>      <th>t</th>      <th>P>|t|</th>  <th>[0.025</th>    <th>0.975]</th>  \n",
              "</tr>\n",
              "<tr>\n",
              "  <th>const</th> <td>  -49.7046</td> <td>  161.435</td> <td>   -0.308</td> <td> 0.758</td> <td> -366.239</td> <td>  266.830</td>\n",
              "</tr>\n",
              "<tr>\n",
              "  <th>x1</th>    <td>    3.9930</td> <td>   20.110</td> <td>    0.199</td> <td> 0.843</td> <td>  -35.438</td> <td>   43.424</td>\n",
              "</tr>\n",
              "<tr>\n",
              "  <th>x2</th>    <td>    0.2760</td> <td>    0.958</td> <td>    0.288</td> <td> 0.773</td> <td>   -1.603</td> <td>    2.155</td>\n",
              "</tr>\n",
              "<tr>\n",
              "  <th>x3</th>    <td>   -0.0126</td> <td>    0.022</td> <td>   -0.577</td> <td> 0.564</td> <td>   -0.056</td> <td>    0.030</td>\n",
              "</tr>\n",
              "<tr>\n",
              "  <th>x4</th>    <td>    0.0002</td> <td>    0.000</td> <td>    0.762</td> <td> 0.446</td> <td>   -0.000</td> <td>    0.001</td>\n",
              "</tr>\n",
              "<tr>\n",
              "  <th>x5</th>    <td>-9.157e-07</td> <td> 1.02e-06</td> <td>   -0.897</td> <td> 0.370</td> <td>-2.92e-06</td> <td> 1.09e-06</td>\n",
              "</tr>\n",
              "</table>\n",
              "<table class=\"simpletable\">\n",
              "<tr>\n",
              "  <th>Omnibus:</th>       <td>1094.840</td> <th>  Durbin-Watson:     </th> <td>   1.961</td>\n",
              "</tr>\n",
              "<tr>\n",
              "  <th>Prob(Omnibus):</th>  <td> 0.000</td>  <th>  Jarque-Bera (JB):  </th> <td>4940.229</td>\n",
              "</tr>\n",
              "<tr>\n",
              "  <th>Skew:</th>           <td> 1.718</td>  <th>  Prob(JB):          </th> <td>    0.00</td>\n",
              "</tr>\n",
              "<tr>\n",
              "  <th>Kurtosis:</th>       <td> 8.265</td>  <th>  Cond. No.          </th> <td>9.39e+10</td>\n",
              "</tr>\n",
              "</table><br/><br/>Warnings:<br/>[1] Standard Errors assume that the covariance matrix of the errors is correctly specified.<br/>[2] The condition number is large, 9.39e+10. This might indicate that there are<br/>strong multicollinearity or other numerical problems."
            ],
            "text/plain": [
              "<class 'statsmodels.iolib.summary.Summary'>\n",
              "\"\"\"\n",
              "                            OLS Regression Results                            \n",
              "==============================================================================\n",
              "Dep. Variable:                   wage   R-squared:                       0.087\n",
              "Model:                            OLS   Adj. R-squared:                  0.085\n",
              "Method:                 Least Squares   F-statistic:                     56.71\n",
              "Date:                Mon, 16 Mar 2020   Prob (F-statistic):           1.67e-56\n",
              "Time:                        01:20:57   Log-Likelihood:                -15314.\n",
              "No. Observations:                3000   AIC:                         3.064e+04\n",
              "Df Residuals:                    2994   BIC:                         3.068e+04\n",
              "Df Model:                           5                                         \n",
              "Covariance Type:            nonrobust                                         \n",
              "==============================================================================\n",
              "                 coef    std err          t      P>|t|      [0.025      0.975]\n",
              "------------------------------------------------------------------------------\n",
              "const        -49.7046    161.435     -0.308      0.758    -366.239     266.830\n",
              "x1             3.9930     20.110      0.199      0.843     -35.438      43.424\n",
              "x2             0.2760      0.958      0.288      0.773      -1.603       2.155\n",
              "x3            -0.0126      0.022     -0.577      0.564      -0.056       0.030\n",
              "x4             0.0002      0.000      0.762      0.446      -0.000       0.001\n",
              "x5         -9.157e-07   1.02e-06     -0.897      0.370   -2.92e-06    1.09e-06\n",
              "==============================================================================\n",
              "Omnibus:                     1094.840   Durbin-Watson:                   1.961\n",
              "Prob(Omnibus):                  0.000   Jarque-Bera (JB):             4940.229\n",
              "Skew:                           1.718   Prob(JB):                         0.00\n",
              "Kurtosis:                       8.265   Cond. No.                     9.39e+10\n",
              "==============================================================================\n",
              "\n",
              "Warnings:\n",
              "[1] Standard Errors assume that the covariance matrix of the errors is correctly specified.\n",
              "[2] The condition number is large, 9.39e+10. This might indicate that there are\n",
              "strong multicollinearity or other numerical problems.\n",
              "\"\"\""
            ]
          },
          "metadata": {
            "tags": []
          },
          "execution_count": 120
        }
      ]
    },
    {
      "cell_type": "code",
      "metadata": {
        "id": "oYxcOI8q6zCD",
        "colab_type": "code",
        "outputId": "f552d918-b4fd-4f88-8f10-6251f488d782",
        "colab": {
          "base_uri": "https://localhost:8080/",
          "height": 311
        }
      },
      "source": [
        "plt.plot(X,y,'.b', label ='data')\n",
        "plt.plot(xp[:,1],ypred,'.r',label='fit')\n",
        "plt.ylabel('wage')\n",
        "plt.xlabel('age')\n",
        "plt.title('age vs wage fit to degree-5 polynomial')\n",
        "plt.legend(loc='upper right')"
      ],
      "execution_count": 0,
      "outputs": [
        {
          "output_type": "execute_result",
          "data": {
            "text/plain": [
              "<matplotlib.legend.Legend at 0x7f0a268cfda0>"
            ]
          },
          "metadata": {
            "tags": []
          },
          "execution_count": 121
        },
        {
          "output_type": "display_data",
          "data": {
            "image/png": "[encoded data removed]",
            "text/plain": [
              "<Figure size 432x288 with 1 Axes>"
            ]
          },
          "metadata": {
            "tags": []
          }
        }
      ]
    },
    {
      "cell_type": "markdown",
      "metadata": {
        "id": "yBxM08ogaxo5",
        "colab_type": "text"
      },
      "source": [
        "The `p-value` associated with hypothesis tests is 0.370 which is greater than 0.05 and therefor we fail to reject the null \n",
        "\n",
        "hypothesis. Therefore, we accept the null hypothesis that the coefficient of the degree 5 term is zero. As can be seen \n",
        "\n",
        "from the summary data the value is $\\approx 10^-6$ which is $\\approx 0.$"
      ]
    },
    {
      "cell_type": "markdown",
      "metadata": {
        "id": "2c_e5hqfCroW",
        "colab_type": "text"
      },
      "source": [
        "## Ridge Regularization"
      ]
    },
    {
      "cell_type": "markdown",
      "metadata": {
        "id": "V9PogiPFSmDW",
        "colab_type": "text"
      },
      "source": [
        "<br>\n",
        "\n",
        "$$\\ell(\\beta)=(\\mathbf{y}-\\mathbf{X}^T\\beta)^T(\\mathbf{y}-\\mathbf{X}^T\\beta)+\\alpha\\beta^T\\hat{I}\\beta$$\n",
        "\n",
        "<br>\n",
        "\n",
        "where\n",
        "\n",
        "<br>\n",
        "\n",
        "$$\\hat{I}=\\begin{pmatrix}0& & &\\\\ &1& & \\\\ & & \\ddots & \\\\ & & & 1\n",
        "\\end{pmatrix}$$\n"
      ]
    },
    {
      "cell_type": "markdown",
      "metadata": {
        "id": "Iwqp5BxTU3LZ",
        "colab_type": "text"
      },
      "source": [
        "### Derive the expression of $\\frac{\\partial\\ell}{\\partial\\beta}$"
      ]
    },
    {
      "cell_type": "markdown",
      "metadata": {
        "id": "x8gu7bil75Mr",
        "colab_type": "text"
      },
      "source": [
        "<br>\n",
        "\n",
        "$$\\frac{\\partial\\ell}{\\partial\\beta} = \\frac{\\partial}{\\partial\\beta}\\left[(\\mathbf{y}-\\mathbf{X}^T\\beta)^T(\\mathbf{y}-\\mathbf{X}^T\\beta)\\right] + \\frac{\\partial}{\\partial\\beta}\\left[\\alpha\\beta^T\\mathbf{\\hat{I}}\\beta\\right]$$\n",
        "\n",
        "<br>\n",
        "\n",
        "$$=\\frac{\\partial}{\\partial\\beta}\\left[\\mathbf{y}^T\\cdot\\mathbf{y}-\\beta^T\\cdot\\mathbf{X}^T\\cdot\\mathbf{y}-\\mathbf{y}^T\\cdot\\mathbf{X}\\cdot\\beta+\\beta^T\\cdot\\mathbf{X}^T\\cdot\\mathbf{X}\\cdot\\beta\\right] + \\frac{\\partial}{\\partial\\beta}\\left[\\alpha\\beta^T\\mathbf{\\hat{I}}\\beta\\right]$$\n",
        "\n",
        "<br>\n",
        "\n",
        "<hr>\n",
        "\n",
        "<br>\n",
        "\n",
        "Starting with the first partial derivative, we can see that no \n",
        "\n",
        "beta parameters are in the derivative and hence with respect to \n",
        "\n",
        "$\\beta$ the value in the partial derivate is treated as a \n",
        "\n",
        "constant and the derivate goes to zero.\n",
        "\n",
        "<br>\n",
        "\n",
        "$$\\frac{\\partial}{\\partial\\beta} \\mathbf{y}^T\\cdot\\mathbf{y} = \\boxed{0}$$\n",
        "\n",
        "<br>\n",
        "\n",
        "<hr>\n",
        "\n",
        "Next we have the partial derivative of the following term:\n",
        "\n",
        "<br> \n",
        "\n",
        "$$-  \\frac{\\partial}{\\partial\\beta} \\beta^T\\cdot\\mathbf{X}^T\\cdot\\mathbf{y}\\rightarrow-\\frac{\\partial}{\\partial\\beta}\\left(\\mathbf{X}\\cdot\\beta\\right)^T\\cdot\\mathbf{y}$$\n",
        "\n",
        "<br>\n",
        "\n",
        "We also have the term \n",
        "\n",
        "<br>\n",
        "\n",
        "$$\\mathbf{y}^T\\cdot\\left(\\mathbf{X}\\cdot\\beta\\right)$$\n",
        "\n",
        "<br>\n",
        "\n",
        "From the commutative property we can see that \n",
        "\n",
        "<br>\n",
        "\n",
        "$$ \\mathbf{X}\\cdot\\mathbf{y}^T \\equiv \\mathbf{y}\\cdot\\mathbf{X}^T$$\n",
        "\n",
        "<br>\n",
        "\n",
        "$$ \\therefore \\left(\\mathbf{X}\\cdot\\beta \\right)^T\\cdot\\mathbf{y} = \\mathbf{y}^T\\cdot\\left(\\mathbf{X}\\cdot\\beta\\right) $$\n",
        "\n",
        "<br>\n",
        "\n",
        "Applying the commutative property and combing the two \n",
        "\n",
        "similar terms we reduce the need of doing two partial \n",
        "\n",
        "derivates since the partial derivate of the sum is \n",
        "\n",
        "equivalant to the sum of the partial derivatives. So \n",
        "\n",
        "we now just need to compute the following:\n",
        "\n",
        "<br>\n",
        "\n",
        "$$ -\\frac{\\partial}{\\partial\\beta} 2 \\left(\\mathbf{X}\\cdot\\beta\\right)^T\\cdot\\mathbf{y} $$\n",
        "\n",
        "<br>\n",
        "\n",
        "Now we take the constant 2 out and apply the transpose \n",
        "\n",
        "on $\\left(\\mathbf{X}\\cdot\\beta\\right)^T$ giving us\n",
        "\n",
        "<br>\n",
        "\n",
        "$$-2 \\frac{\\partial}{\\partial\\beta}\\beta^T\\cdot\\mathbf{X}^T\\cdot\\mathbf{y}$$\n",
        "\n",
        "<br>\n",
        "\n",
        "and using the property\n",
        "\n",
        "<br>\n",
        "\n",
        "$$ \\frac{\\partial x^T\\mathbf{A}}{\\partial x} = \\mathbf{A}^T $$\n",
        "\n",
        "<br>\n",
        "\n",
        "where \n",
        "\n",
        "<br>\n",
        "\n",
        "$$ \\mathbf{A} = \\mathbf{X}^T\\cdot\\mathbf{y} $$\n",
        "\n",
        "<br>\n",
        "\n",
        "we will get\n",
        "\n",
        "<br>\n",
        "\n",
        "$$ -2\\frac{\\partial}{\\partial\\beta}\\beta^T\\cdot\\mathbf{X}^T\\cdot\\mathbf{y} = -2 \\left(\\mathbf{X}^T\\cdot\\mathbf{y}\\right)^T=\\boxed{-2\\mathbf{y}^T\\cdot\\mathbf{X}} $$\n",
        "\n",
        "<br>\n",
        "\n",
        "<hr>\n",
        "\n",
        "<br>\n",
        "\n",
        "$$\\frac{\\partial}{\\partial\\beta}\\beta^T\\cdot\\mathbf{X}^T\\cdot\\mathbf{X}\\cdot\\beta$$\n",
        "\n",
        "<br>\n",
        "\n",
        "We can apply the matrix calculus formula\n",
        "\n",
        "<br>\n",
        "\n",
        "$$ \\frac{\\partial x^T\\mathbf{A}x}{\\partial x}=x^T\\left(\\mathbf{A}+\\mathbf{A}^T\\right)$$\n",
        "\n",
        "<br>\n",
        "\n",
        "which will result in\n",
        "\n",
        "<br>\n",
        "\n",
        "$$ \\frac{\\partial}{\\partial\\beta}\\beta^T\\cdot\\mathbf{X}^T\\cdot\\mathbf{X}\\cdot\\beta = \\beta^T\\left(\\left(\\mathbf{X}^T\\cdot\\mathbf{X}\\right)+\\left(\\mathbf{X}^T\\cdot\\mathbf{X}\\right)^T\\right)$$\n",
        "\n",
        "<br>\n",
        "\n",
        "$$ = 2\\beta^T\\left(\\mathbf{X}^T\\cdot\\mathbf{X}\\right) $$\n",
        "\n",
        "<br>\n",
        "\n",
        "$$ = \\boxed{2\\left(\\mathbf{X}^T\\cdot\\mathbf{X}\\right)\\beta}$$\n",
        "\n",
        "<br>\n",
        "\n",
        "<hr>\n",
        "\n",
        "<br>\n",
        "\n",
        "$$\\frac{\\partial}{\\partial\\beta} \\alpha\\beta^T\\hat{I}\\beta$$\n",
        "\n",
        "<br>\n",
        "\n",
        "First off with this term we can take out $\\alpha$ as it \n",
        "\n",
        "is a constant value \n",
        "\n",
        "<br>\n",
        "\n",
        "$$ \\alpha \\frac{\\partial}{\\partial\\beta} \\beta^T\\cdot\\hat{I}\\cdot\\beta$$\n",
        "\n",
        "<br>\n",
        "\n",
        "Now using the matrix formula\n",
        "\n",
        "<br>\n",
        "\n",
        "$$ \\frac{\\partial x^T\\mathbf{A}x}{\\partial x} = x^T\\left(\\mathbf{A}+\\mathbf{A}^T\\right) $$\n",
        "\n",
        "<br>\n",
        "\n",
        "We will get the result\n",
        "\n",
        "<br>\n",
        "\n",
        "$$ = \\alpha\\frac{\\partial}{\\partial\\beta}\\beta^T\\mathbf{\\hat{I}}\\beta = \\alpha\\beta^T\\left(\\mathbf{\\hat{I}}+\\mathbf{\\hat{I}}^T\\right) $$\n",
        "\n",
        "<br>\n",
        "\n",
        "We can see that $\\hat{I}$ is just an identity matrix and \n",
        "\n",
        "therefore the transpose will be itself. Using this property \n",
        "\n",
        "we can further simplify the result to obtain\n",
        "\n",
        "<br>\n",
        "\n",
        "$$ \\alpha\\beta^T\\left(2\\mathbf{\\hat{I}}\\right) = \\boxed{2\\alpha\\mathbf{\\hat{I}}\\beta}$$\n",
        "\n",
        "<br>\n",
        "\n",
        "<hr>\n",
        "\n",
        "<br>\n",
        "\n",
        "Putting all the terms together, we have the complete partial \n",
        "\n",
        "derivate w.r.t. $\\beta$ being\n",
        "\n",
        "<br>\n",
        "\n",
        "<br> \n",
        "\n",
        "$$ \\frac{\\partial\\ell}{\\partial\\beta} = -2\\mathbf{X}^T\\mathbf{y} + 2\\left(\\mathbf{X}^T\\mathbf{X}\\right)\\beta + 2\\alpha\\mathbf{\\hat{I}}\\beta $$\n",
        "\n",
        "<br>"
      ]
    },
    {
      "cell_type": "markdown",
      "metadata": {
        "id": "OJH6JSKiVRmS",
        "colab_type": "text"
      },
      "source": [
        "### Derive the expression of $argmin_\\beta\\ell(\\beta)$"
      ]
    },
    {
      "cell_type": "markdown",
      "metadata": {
        "id": "n36sxoFYGN0h",
        "colab_type": "text"
      },
      "source": [
        "<br>\n",
        "\n",
        "$$argmin_\\beta\\ell(\\beta) = \\frac{\\partial\\ell}{\\partial\\beta}=0$$\n",
        "\n",
        "<br>\n",
        "\n",
        "From the previous response, we have derived w.r.t. $\\beta$ the following\n",
        "\n",
        "<br>\n",
        "\n",
        "$$ \\frac{\\partial\\ell}{\\partial\\beta} = -2\\mathbf{X}^T\\mathbf{y}+2\\left(\\mathbf{X}^T\\mathbf{X}\\right)\\beta+2\\alpha\\mathbf{\\hat{I}}\\beta$$\n",
        "\n",
        "<br>\n",
        "\n",
        "The global minimum will be found when this equation equals 0.\n",
        "\n",
        "So we can set the equation equal to zero and solve for $\\beta$.\n",
        "\n",
        "<br>\n",
        "\n",
        "$$ 2\\left(\\mathbf{X}^T\\mathbf{X}\\right)\\beta+2\\alpha\\mathbf{\\hat{I}}\\beta-2\\mathbf{X}^T\\mathbf{y} = 0$$\n",
        "\n",
        "<br>\n",
        "\n",
        "$$ 2\\left(\\mathbf{X}^T\\mathbf{X}\\right)\\beta+2\\alpha\\mathbf{\\hat{I}}\\beta = 2\\mathbf{X}^T\\mathbf{y}$$\n",
        "\n",
        "<br>\n",
        "\n",
        "$$ \\beta = \\frac{2\\mathbf{X}^T\\mathbf{y}}{2\\left(\\mathbf{X}^T\\mathbf{X} + \\alpha\\mathbf{\\hat{I}}\\right)}$$\n",
        "\n",
        "<br>\n",
        "\n",
        "$$\\therefore \\beta = \\boxed{\\left(\\mathbf{X}^T\\mathbf{X}+\\alpha\\hat{I})^{-1}\\mathbf{X}^T\\mathbf{y}\\right)}$$"
      ]
    }
  ]
}